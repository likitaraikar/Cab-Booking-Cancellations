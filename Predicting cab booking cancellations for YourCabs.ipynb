{
 "cells": [
  {
   "cell_type": "markdown",
   "metadata": {
    "id": "k8rpL6ufiR2L"
   },
   "source": [
    "#Import Libraries"
   ]
  },
  {
   "cell_type": "code",
   "execution_count": 1,
   "metadata": {
    "id": "VafjlOZQni18"
   },
   "outputs": [],
   "source": [
    "import numpy as np\n",
    "import pandas as pd\n",
    "import matplotlib.pyplot as plt\n",
    "import seaborn as sns"
   ]
  },
  {
   "cell_type": "code",
   "execution_count": 2,
   "metadata": {
    "id": "uUirWe6ftU_Q"
   },
   "outputs": [],
   "source": [
    "from geopy import distance"
   ]
  },
  {
   "cell_type": "markdown",
   "metadata": {
    "id": "EqTlE3OViaQU"
   },
   "source": [
    "#Importing Data"
   ]
  },
  {
   "cell_type": "code",
   "execution_count": 3,
   "metadata": {
    "id": "ldmT6ttInq9J"
   },
   "outputs": [],
   "source": [
    "df = pd.read_csv('YourCabs_training.csv')"
   ]
  },
  {
   "cell_type": "code",
   "execution_count": 4,
   "metadata": {
    "id": "RcqH5ijCnx9d"
   },
   "outputs": [],
   "source": [
    "data=df.drop(['Car_Cancellation','Cost_of_error'],axis=1) #Dropping Target columns"
   ]
  },
  {
   "cell_type": "code",
   "execution_count": 5,
   "metadata": {
    "id": "1u7JOkh6nzny"
   },
   "outputs": [],
   "source": [
    "target=df[['Car_Cancellation']]"
   ]
  },
  {
   "cell_type": "code",
   "execution_count": 6,
   "metadata": {
    "colab": {
     "base_uri": "https://localhost:8080/"
    },
    "id": "ZgYej2_BoCnR",
    "outputId": "ebe2d313-ea68-4e89-ac45-a6888a73793a"
   },
   "outputs": [
    {
     "name": "stdout",
     "output_type": "stream",
     "text": [
      "<class 'pandas.core.frame.DataFrame'>\n",
      "RangeIndex: 43431 entries, 0 to 43430\n",
      "Data columns (total 18 columns):\n",
      " #   Column               Non-Null Count  Dtype  \n",
      "---  ------               --------------  -----  \n",
      " 0   id                   43431 non-null  int64  \n",
      " 1   user_id              43431 non-null  int64  \n",
      " 2   vehicle_model_id     43431 non-null  int64  \n",
      " 3   package_id           7550 non-null   float64\n",
      " 4   travel_type_id       43431 non-null  int64  \n",
      " 5   from_area_id         43343 non-null  float64\n",
      " 6   to_area_id           34293 non-null  float64\n",
      " 7   from_city_id         16345 non-null  float64\n",
      " 8   to_city_id           1588 non-null   float64\n",
      " 9   from_date            43431 non-null  object \n",
      " 10  to_date              25541 non-null  float64\n",
      " 11  online_booking       43431 non-null  int64  \n",
      " 12  mobile_site_booking  43431 non-null  int64  \n",
      " 13  booking_created      43431 non-null  object \n",
      " 14  from_lat             43338 non-null  float64\n",
      " 15  from_long            43338 non-null  float64\n",
      " 16  to_lat               34293 non-null  float64\n",
      " 17  to_long              34293 non-null  float64\n",
      "dtypes: float64(10), int64(6), object(2)\n",
      "memory usage: 6.0+ MB\n"
     ]
    }
   ],
   "source": [
    "data.info()"
   ]
  },
  {
   "cell_type": "code",
   "execution_count": 7,
   "metadata": {
    "colab": {
     "base_uri": "https://localhost:8080/"
    },
    "id": "cKuyYxxWqAvD",
    "outputId": "ec0a686a-f7ff-4604-926d-b236b587a5ec"
   },
   "outputs": [
    {
     "data": {
      "text/plain": [
       "id                     0.000000\n",
       "user_id                0.000000\n",
       "vehicle_model_id       0.000000\n",
       "package_id             0.826161\n",
       "travel_type_id         0.000000\n",
       "from_area_id           0.002026\n",
       "to_area_id             0.210403\n",
       "from_city_id           0.623656\n",
       "to_city_id             0.963436\n",
       "from_date              0.000000\n",
       "to_date                0.411918\n",
       "online_booking         0.000000\n",
       "mobile_site_booking    0.000000\n",
       "booking_created        0.000000\n",
       "from_lat               0.002141\n",
       "from_long              0.002141\n",
       "to_lat                 0.210403\n",
       "to_long                0.210403\n",
       "dtype: float64"
      ]
     },
     "execution_count": 7,
     "metadata": {},
     "output_type": "execute_result"
    }
   ],
   "source": [
    "data.isnull().mean()"
   ]
  },
  {
   "cell_type": "markdown",
   "metadata": {
    "id": "KTQR-fSgipxk"
   },
   "source": [
    "# Data Cleaning"
   ]
  },
  {
   "cell_type": "code",
   "execution_count": 8,
   "metadata": {
    "id": "-3wqpSian67X"
   },
   "outputs": [],
   "source": [
    "data=data.drop(['id','user_id','package_id','to_area_id','from_city_id','to_city_id','to_date'],axis=1)\n",
    "#Dropping Identity columns\n",
    "#Dropping on null percentage >40\n",
    "#Dropping to_area_id as of no scope"
   ]
  },
  {
   "cell_type": "code",
   "execution_count": 9,
   "metadata": {
    "colab": {
     "base_uri": "https://localhost:8080/"
    },
    "id": "bQ5INj_PprFO",
    "outputId": "e0524829-9681-4022-c855-d3d9331bbdba"
   },
   "outputs": [
    {
     "data": {
      "text/plain": [
       "12    73.355437\n",
       "85     5.542124\n",
       "89     5.505284\n",
       "65     4.402385\n",
       "28     3.918860\n",
       "24     3.439939\n",
       "87     1.300914\n",
       "90     0.718381\n",
       "23     0.683843\n",
       "86     0.283208\n",
       "10     0.239460\n",
       "64     0.195713\n",
       "54     0.168083\n",
       "17     0.092100\n",
       "91     0.057563\n",
       "30     0.032235\n",
       "36     0.020723\n",
       "13     0.016118\n",
       "1      0.004605\n",
       "43     0.004605\n",
       "72     0.004605\n",
       "14     0.002303\n",
       "76     0.002303\n",
       "75     0.002303\n",
       "39     0.002303\n",
       "70     0.002303\n",
       "69     0.002303\n",
       "Name: vehicle_model_id, dtype: float64"
      ]
     },
     "execution_count": 9,
     "metadata": {},
     "output_type": "execute_result"
    }
   ],
   "source": [
    "data['vehicle_model_id'].value_counts(normalize=True)*100"
   ]
  },
  {
   "cell_type": "code",
   "execution_count": 10,
   "metadata": {
    "id": "HkrDhhv9p8H2"
   },
   "outputs": [],
   "source": [
    "data=data.drop(['vehicle_model_id'],axis=1) #Dropping as single value has more percentage"
   ]
  },
  {
   "cell_type": "code",
   "execution_count": 11,
   "metadata": {
    "colab": {
     "base_uri": "https://localhost:8080/",
     "height": 0
    },
    "id": "6tVR_JaOocxr",
    "outputId": "212f2143-aa8c-4eaf-8c69-df1306631381"
   },
   "outputs": [
    {
     "data": {
      "text/html": [
       "<div>\n",
       "<style scoped>\n",
       "    .dataframe tbody tr th:only-of-type {\n",
       "        vertical-align: middle;\n",
       "    }\n",
       "\n",
       "    .dataframe tbody tr th {\n",
       "        vertical-align: top;\n",
       "    }\n",
       "\n",
       "    .dataframe thead th {\n",
       "        text-align: right;\n",
       "    }\n",
       "</style>\n",
       "<table border=\"1\" class=\"dataframe\">\n",
       "  <thead>\n",
       "    <tr style=\"text-align: right;\">\n",
       "      <th></th>\n",
       "      <th>travel_type_id</th>\n",
       "      <th>from_area_id</th>\n",
       "      <th>from_date</th>\n",
       "      <th>online_booking</th>\n",
       "      <th>mobile_site_booking</th>\n",
       "      <th>booking_created</th>\n",
       "      <th>from_lat</th>\n",
       "      <th>from_long</th>\n",
       "      <th>to_lat</th>\n",
       "      <th>to_long</th>\n",
       "    </tr>\n",
       "  </thead>\n",
       "  <tbody>\n",
       "    <tr>\n",
       "      <th>0</th>\n",
       "      <td>2</td>\n",
       "      <td>83.0</td>\n",
       "      <td>1/1/2013 2:00</td>\n",
       "      <td>0</td>\n",
       "      <td>0</td>\n",
       "      <td>1/1/2013 1:39</td>\n",
       "      <td>12.924150</td>\n",
       "      <td>77.672290</td>\n",
       "      <td>12.927320</td>\n",
       "      <td>77.635750</td>\n",
       "    </tr>\n",
       "    <tr>\n",
       "      <th>1</th>\n",
       "      <td>2</td>\n",
       "      <td>1010.0</td>\n",
       "      <td>1/1/2013 9:00</td>\n",
       "      <td>0</td>\n",
       "      <td>0</td>\n",
       "      <td>1/1/2013 2:25</td>\n",
       "      <td>12.966910</td>\n",
       "      <td>77.749350</td>\n",
       "      <td>12.927680</td>\n",
       "      <td>77.626640</td>\n",
       "    </tr>\n",
       "    <tr>\n",
       "      <th>2</th>\n",
       "      <td>2</td>\n",
       "      <td>1301.0</td>\n",
       "      <td>1/1/2013 3:30</td>\n",
       "      <td>0</td>\n",
       "      <td>0</td>\n",
       "      <td>1/1/2013 3:08</td>\n",
       "      <td>12.937222</td>\n",
       "      <td>77.626915</td>\n",
       "      <td>13.047926</td>\n",
       "      <td>77.597766</td>\n",
       "    </tr>\n",
       "    <tr>\n",
       "      <th>3</th>\n",
       "      <td>2</td>\n",
       "      <td>768.0</td>\n",
       "      <td>1/1/2013 5:45</td>\n",
       "      <td>0</td>\n",
       "      <td>0</td>\n",
       "      <td>1/1/2013 4:39</td>\n",
       "      <td>12.989990</td>\n",
       "      <td>77.553320</td>\n",
       "      <td>12.971430</td>\n",
       "      <td>77.639140</td>\n",
       "    </tr>\n",
       "    <tr>\n",
       "      <th>4</th>\n",
       "      <td>2</td>\n",
       "      <td>1365.0</td>\n",
       "      <td>1/1/2013 9:00</td>\n",
       "      <td>0</td>\n",
       "      <td>0</td>\n",
       "      <td>1/1/2013 7:53</td>\n",
       "      <td>12.845653</td>\n",
       "      <td>77.677925</td>\n",
       "      <td>12.954340</td>\n",
       "      <td>77.600720</td>\n",
       "    </tr>\n",
       "  </tbody>\n",
       "</table>\n",
       "</div>"
      ],
      "text/plain": [
       "   travel_type_id  from_area_id      from_date  online_booking  \\\n",
       "0               2          83.0  1/1/2013 2:00               0   \n",
       "1               2        1010.0  1/1/2013 9:00               0   \n",
       "2               2        1301.0  1/1/2013 3:30               0   \n",
       "3               2         768.0  1/1/2013 5:45               0   \n",
       "4               2        1365.0  1/1/2013 9:00               0   \n",
       "\n",
       "   mobile_site_booking booking_created   from_lat  from_long     to_lat  \\\n",
       "0                    0   1/1/2013 1:39  12.924150  77.672290  12.927320   \n",
       "1                    0   1/1/2013 2:25  12.966910  77.749350  12.927680   \n",
       "2                    0   1/1/2013 3:08  12.937222  77.626915  13.047926   \n",
       "3                    0   1/1/2013 4:39  12.989990  77.553320  12.971430   \n",
       "4                    0   1/1/2013 7:53  12.845653  77.677925  12.954340   \n",
       "\n",
       "     to_long  \n",
       "0  77.635750  \n",
       "1  77.626640  \n",
       "2  77.597766  \n",
       "3  77.639140  \n",
       "4  77.600720  "
      ]
     },
     "execution_count": 11,
     "metadata": {},
     "output_type": "execute_result"
    }
   ],
   "source": [
    "data.head()"
   ]
  },
  {
   "cell_type": "markdown",
   "metadata": {
    "id": "Nt7DgCrCivfd"
   },
   "source": [
    "#Data Transforming"
   ]
  },
  {
   "cell_type": "code",
   "execution_count": 12,
   "metadata": {
    "colab": {
     "base_uri": "https://localhost:8080/"
    },
    "id": "w2zs1Ta4sEft",
    "outputId": "b8eece7c-ee33-41b7-9024-ab73118332e2"
   },
   "outputs": [
    {
     "name": "stdout",
     "output_type": "stream",
     "text": [
      "1044.0\n",
      "12.968887\n",
      "77.63575\n"
     ]
    }
   ],
   "source": [
    "print(data[data['from_lat'] == data['from_lat'].median()]['from_area_id'].max())\n",
    "print(data['from_lat'].median())\n",
    "print(data['from_long'].median())"
   ]
  },
  {
   "cell_type": "code",
   "execution_count": 13,
   "metadata": {
    "id": "X9dgXJ-6mZlf"
   },
   "outputs": [],
   "source": [
    "data['from_lat'] = data['from_lat'].fillna(data['from_lat'].median())\n",
    "data['from_long'] = data['from_long'].fillna(data['from_long'].median())"
   ]
  },
  {
   "cell_type": "code",
   "execution_count": 14,
   "metadata": {
    "id": "DXIw-2wppeXM"
   },
   "outputs": [],
   "source": [
    "data['from_area_id'] = data['from_area_id'].fillna(data[data['from_lat'] == data['from_lat'].median()]['from_area_id'].max())"
   ]
  },
  {
   "cell_type": "code",
   "execution_count": 15,
   "metadata": {
    "id": "z-fmNXBModxM"
   },
   "outputs": [],
   "source": [
    "data['to_lat'] = data['to_lat'].fillna(df.groupby('from_area_id')['to_lat'].transform('median'))\n",
    "#Fill na with median for Continuous data and mode for Discrete data"
   ]
  },
  {
   "cell_type": "code",
   "execution_count": 16,
   "metadata": {
    "id": "Vt7n5ui_ubF5"
   },
   "outputs": [],
   "source": [
    "data['to_long'] = data['to_long'].fillna(df.groupby('from_area_id')['to_long'].transform('median'))\n",
    "#Fill na with median for Continuous data and mode for Discrete data"
   ]
  },
  {
   "cell_type": "code",
   "execution_count": 17,
   "metadata": {
    "colab": {
     "base_uri": "https://localhost:8080/",
     "height": 357
    },
    "id": "VAl1iFLiyCrU",
    "outputId": "c6853e16-3fe1-4f12-924d-fea6e51dcc6a"
   },
   "outputs": [
    {
     "data": {
      "text/html": [
       "<div>\n",
       "<style scoped>\n",
       "    .dataframe tbody tr th:only-of-type {\n",
       "        vertical-align: middle;\n",
       "    }\n",
       "\n",
       "    .dataframe tbody tr th {\n",
       "        vertical-align: top;\n",
       "    }\n",
       "\n",
       "    .dataframe thead th {\n",
       "        text-align: right;\n",
       "    }\n",
       "</style>\n",
       "<table border=\"1\" class=\"dataframe\">\n",
       "  <thead>\n",
       "    <tr style=\"text-align: right;\">\n",
       "      <th></th>\n",
       "      <th>travel_type_id</th>\n",
       "      <th>from_area_id</th>\n",
       "      <th>from_date</th>\n",
       "      <th>online_booking</th>\n",
       "      <th>mobile_site_booking</th>\n",
       "      <th>booking_created</th>\n",
       "      <th>from_lat</th>\n",
       "      <th>from_long</th>\n",
       "      <th>to_lat</th>\n",
       "      <th>to_long</th>\n",
       "    </tr>\n",
       "  </thead>\n",
       "  <tbody>\n",
       "    <tr>\n",
       "      <th>2158</th>\n",
       "      <td>1</td>\n",
       "      <td>483.0</td>\n",
       "      <td>1/25/2013 6:00</td>\n",
       "      <td>1</td>\n",
       "      <td>0</td>\n",
       "      <td>1/24/2013 15:32</td>\n",
       "      <td>12.953020</td>\n",
       "      <td>77.56333</td>\n",
       "      <td>NaN</td>\n",
       "      <td>NaN</td>\n",
       "    </tr>\n",
       "    <tr>\n",
       "      <th>3945</th>\n",
       "      <td>1</td>\n",
       "      <td>1397.0</td>\n",
       "      <td>2/10/2013 16:30</td>\n",
       "      <td>1</td>\n",
       "      <td>0</td>\n",
       "      <td>2/10/2013 13:26</td>\n",
       "      <td>12.968887</td>\n",
       "      <td>77.63575</td>\n",
       "      <td>NaN</td>\n",
       "      <td>NaN</td>\n",
       "    </tr>\n",
       "    <tr>\n",
       "      <th>4912</th>\n",
       "      <td>1</td>\n",
       "      <td>1397.0</td>\n",
       "      <td>2/23/2013 6:30</td>\n",
       "      <td>1</td>\n",
       "      <td>0</td>\n",
       "      <td>2/19/2013 21:29</td>\n",
       "      <td>12.968887</td>\n",
       "      <td>77.63575</td>\n",
       "      <td>NaN</td>\n",
       "      <td>NaN</td>\n",
       "    </tr>\n",
       "    <tr>\n",
       "      <th>5144</th>\n",
       "      <td>1</td>\n",
       "      <td>1397.0</td>\n",
       "      <td>2/22/2013 13:30</td>\n",
       "      <td>1</td>\n",
       "      <td>0</td>\n",
       "      <td>2/22/2013 10:22</td>\n",
       "      <td>12.968887</td>\n",
       "      <td>77.63575</td>\n",
       "      <td>NaN</td>\n",
       "      <td>NaN</td>\n",
       "    </tr>\n",
       "    <tr>\n",
       "      <th>5970</th>\n",
       "      <td>1</td>\n",
       "      <td>1397.0</td>\n",
       "      <td>3/4/2013 7:00</td>\n",
       "      <td>0</td>\n",
       "      <td>0</td>\n",
       "      <td>3/2/2013 17:48</td>\n",
       "      <td>12.968887</td>\n",
       "      <td>77.63575</td>\n",
       "      <td>NaN</td>\n",
       "      <td>NaN</td>\n",
       "    </tr>\n",
       "  </tbody>\n",
       "</table>\n",
       "</div>"
      ],
      "text/plain": [
       "      travel_type_id  from_area_id        from_date  online_booking  \\\n",
       "2158               1         483.0   1/25/2013 6:00               1   \n",
       "3945               1        1397.0  2/10/2013 16:30               1   \n",
       "4912               1        1397.0   2/23/2013 6:30               1   \n",
       "5144               1        1397.0  2/22/2013 13:30               1   \n",
       "5970               1        1397.0    3/4/2013 7:00               0   \n",
       "\n",
       "      mobile_site_booking  booking_created   from_lat  from_long  to_lat  \\\n",
       "2158                    0  1/24/2013 15:32  12.953020   77.56333     NaN   \n",
       "3945                    0  2/10/2013 13:26  12.968887   77.63575     NaN   \n",
       "4912                    0  2/19/2013 21:29  12.968887   77.63575     NaN   \n",
       "5144                    0  2/22/2013 10:22  12.968887   77.63575     NaN   \n",
       "5970                    0   3/2/2013 17:48  12.968887   77.63575     NaN   \n",
       "\n",
       "      to_long  \n",
       "2158      NaN  \n",
       "3945      NaN  \n",
       "4912      NaN  \n",
       "5144      NaN  \n",
       "5970      NaN  "
      ]
     },
     "execution_count": 17,
     "metadata": {},
     "output_type": "execute_result"
    }
   ],
   "source": [
    "data[data['to_lat'].isnull()].head()"
   ]
  },
  {
   "cell_type": "code",
   "execution_count": 18,
   "metadata": {
    "colab": {
     "base_uri": "https://localhost:8080/"
    },
    "id": "4vmBleuUsftC",
    "outputId": "cdfbe70c-c0cd-42bb-8c77-a285528c3316"
   },
   "outputs": [
    {
     "data": {
      "text/plain": [
       "1397.0    90\n",
       "1396.0     3\n",
       "173.0      2\n",
       "17.0       2\n",
       "802.0      1\n",
       "215.0      1\n",
       "1080.0     1\n",
       "1265.0     1\n",
       "1215.0     1\n",
       "1164.0     1\n",
       "178.0      1\n",
       "483.0      1\n",
       "Name: from_area_id, dtype: int64"
      ]
     },
     "execution_count": 18,
     "metadata": {},
     "output_type": "execute_result"
    }
   ],
   "source": [
    "data[data['to_lat'].isnull()]['from_area_id'].value_counts()"
   ]
  },
  {
   "cell_type": "code",
   "execution_count": 19,
   "metadata": {
    "colab": {
     "base_uri": "https://localhost:8080/"
    },
    "id": "R7UGrZJCzGcu",
    "outputId": "07233cc4-ba65-4770-ffe9-9c944847ffe2"
   },
   "outputs": [
    {
     "name": "stdout",
     "output_type": "stream",
     "text": [
      "12.98999\n",
      "77.649047\n"
     ]
    }
   ],
   "source": [
    "print(data['to_lat'].median())\n",
    "print(data['to_long'].median())"
   ]
  },
  {
   "cell_type": "code",
   "execution_count": 20,
   "metadata": {
    "id": "M74NMTwPy8bE"
   },
   "outputs": [],
   "source": [
    "data['to_lat'] = data['to_lat'].fillna(data['to_lat'].median())\n",
    "data['to_long'] = data['to_long'].fillna(data['to_long'].median())"
   ]
  },
  {
   "cell_type": "code",
   "execution_count": 21,
   "metadata": {
    "colab": {
     "base_uri": "https://localhost:8080/",
     "height": 601
    },
    "id": "kcctBA5oukVH",
    "outputId": "b7588bdc-d4f1-4823-b589-53c06cdb7979"
   },
   "outputs": [
    {
     "data": {
      "text/html": [
       "<div>\n",
       "<style scoped>\n",
       "    .dataframe tbody tr th:only-of-type {\n",
       "        vertical-align: middle;\n",
       "    }\n",
       "\n",
       "    .dataframe tbody tr th {\n",
       "        vertical-align: top;\n",
       "    }\n",
       "\n",
       "    .dataframe thead th {\n",
       "        text-align: right;\n",
       "    }\n",
       "</style>\n",
       "<table border=\"1\" class=\"dataframe\">\n",
       "  <thead>\n",
       "    <tr style=\"text-align: right;\">\n",
       "      <th></th>\n",
       "      <th>travel_type_id</th>\n",
       "      <th>from_area_id</th>\n",
       "      <th>from_date</th>\n",
       "      <th>online_booking</th>\n",
       "      <th>mobile_site_booking</th>\n",
       "      <th>booking_created</th>\n",
       "      <th>from_lat</th>\n",
       "      <th>from_long</th>\n",
       "      <th>to_lat</th>\n",
       "      <th>to_long</th>\n",
       "    </tr>\n",
       "  </thead>\n",
       "  <tbody>\n",
       "    <tr>\n",
       "      <th>6</th>\n",
       "      <td>1</td>\n",
       "      <td>571.0</td>\n",
       "      <td>1/1/2013 9:45</td>\n",
       "      <td>0</td>\n",
       "      <td>0</td>\n",
       "      <td>1/1/2013 9:21</td>\n",
       "      <td>12.95185</td>\n",
       "      <td>77.69642</td>\n",
       "      <td>12.986284</td>\n",
       "      <td>77.65530</td>\n",
       "    </tr>\n",
       "    <tr>\n",
       "      <th>43</th>\n",
       "      <td>2</td>\n",
       "      <td>571.0</td>\n",
       "      <td>1/2/2013 3:00</td>\n",
       "      <td>0</td>\n",
       "      <td>0</td>\n",
       "      <td>1/1/2013 19:00</td>\n",
       "      <td>12.95185</td>\n",
       "      <td>77.69642</td>\n",
       "      <td>13.199560</td>\n",
       "      <td>77.70688</td>\n",
       "    </tr>\n",
       "    <tr>\n",
       "      <th>78</th>\n",
       "      <td>2</td>\n",
       "      <td>571.0</td>\n",
       "      <td>1/3/2013 17:15</td>\n",
       "      <td>1</td>\n",
       "      <td>0</td>\n",
       "      <td>1/2/2013 9:31</td>\n",
       "      <td>12.95185</td>\n",
       "      <td>77.69642</td>\n",
       "      <td>13.199560</td>\n",
       "      <td>77.70688</td>\n",
       "    </tr>\n",
       "    <tr>\n",
       "      <th>156</th>\n",
       "      <td>2</td>\n",
       "      <td>571.0</td>\n",
       "      <td>1/4/2013 8:00</td>\n",
       "      <td>0</td>\n",
       "      <td>0</td>\n",
       "      <td>1/3/2013 10:29</td>\n",
       "      <td>12.95185</td>\n",
       "      <td>77.69642</td>\n",
       "      <td>13.028530</td>\n",
       "      <td>77.54625</td>\n",
       "    </tr>\n",
       "    <tr>\n",
       "      <th>159</th>\n",
       "      <td>2</td>\n",
       "      <td>571.0</td>\n",
       "      <td>1/4/2013 4:45</td>\n",
       "      <td>1</td>\n",
       "      <td>0</td>\n",
       "      <td>1/3/2013 13:00</td>\n",
       "      <td>12.95185</td>\n",
       "      <td>77.69642</td>\n",
       "      <td>12.976770</td>\n",
       "      <td>77.57270</td>\n",
       "    </tr>\n",
       "    <tr>\n",
       "      <th>212</th>\n",
       "      <td>3</td>\n",
       "      <td>571.0</td>\n",
       "      <td>1/4/2013 13:15</td>\n",
       "      <td>0</td>\n",
       "      <td>0</td>\n",
       "      <td>1/4/2013 8:36</td>\n",
       "      <td>12.95185</td>\n",
       "      <td>77.69642</td>\n",
       "      <td>12.986284</td>\n",
       "      <td>77.65530</td>\n",
       "    </tr>\n",
       "    <tr>\n",
       "      <th>225</th>\n",
       "      <td>2</td>\n",
       "      <td>571.0</td>\n",
       "      <td>1/4/2013 13:30</td>\n",
       "      <td>0</td>\n",
       "      <td>0</td>\n",
       "      <td>1/4/2013 10:32</td>\n",
       "      <td>12.95185</td>\n",
       "      <td>77.69642</td>\n",
       "      <td>13.199560</td>\n",
       "      <td>77.70688</td>\n",
       "    </tr>\n",
       "    <tr>\n",
       "      <th>261</th>\n",
       "      <td>2</td>\n",
       "      <td>571.0</td>\n",
       "      <td>1/4/2013 22:00</td>\n",
       "      <td>0</td>\n",
       "      <td>0</td>\n",
       "      <td>1/4/2013 18:07</td>\n",
       "      <td>12.95185</td>\n",
       "      <td>77.69642</td>\n",
       "      <td>12.907960</td>\n",
       "      <td>77.62418</td>\n",
       "    </tr>\n",
       "    <tr>\n",
       "      <th>278</th>\n",
       "      <td>3</td>\n",
       "      <td>571.0</td>\n",
       "      <td>1/5/2013 10:00</td>\n",
       "      <td>0</td>\n",
       "      <td>0</td>\n",
       "      <td>1/4/2013 20:19</td>\n",
       "      <td>12.95185</td>\n",
       "      <td>77.69642</td>\n",
       "      <td>12.986284</td>\n",
       "      <td>77.65530</td>\n",
       "    </tr>\n",
       "    <tr>\n",
       "      <th>297</th>\n",
       "      <td>2</td>\n",
       "      <td>571.0</td>\n",
       "      <td>1/5/2013 10:30</td>\n",
       "      <td>0</td>\n",
       "      <td>0</td>\n",
       "      <td>1/5/2013 8:59</td>\n",
       "      <td>12.95185</td>\n",
       "      <td>77.69642</td>\n",
       "      <td>13.022390</td>\n",
       "      <td>77.59492</td>\n",
       "    </tr>\n",
       "  </tbody>\n",
       "</table>\n",
       "</div>"
      ],
      "text/plain": [
       "     travel_type_id  from_area_id       from_date  online_booking  \\\n",
       "6                 1         571.0   1/1/2013 9:45               0   \n",
       "43                2         571.0   1/2/2013 3:00               0   \n",
       "78                2         571.0  1/3/2013 17:15               1   \n",
       "156               2         571.0   1/4/2013 8:00               0   \n",
       "159               2         571.0   1/4/2013 4:45               1   \n",
       "212               3         571.0  1/4/2013 13:15               0   \n",
       "225               2         571.0  1/4/2013 13:30               0   \n",
       "261               2         571.0  1/4/2013 22:00               0   \n",
       "278               3         571.0  1/5/2013 10:00               0   \n",
       "297               2         571.0  1/5/2013 10:30               0   \n",
       "\n",
       "     mobile_site_booking booking_created  from_lat  from_long     to_lat  \\\n",
       "6                      0   1/1/2013 9:21  12.95185   77.69642  12.986284   \n",
       "43                     0  1/1/2013 19:00  12.95185   77.69642  13.199560   \n",
       "78                     0   1/2/2013 9:31  12.95185   77.69642  13.199560   \n",
       "156                    0  1/3/2013 10:29  12.95185   77.69642  13.028530   \n",
       "159                    0  1/3/2013 13:00  12.95185   77.69642  12.976770   \n",
       "212                    0   1/4/2013 8:36  12.95185   77.69642  12.986284   \n",
       "225                    0  1/4/2013 10:32  12.95185   77.69642  13.199560   \n",
       "261                    0  1/4/2013 18:07  12.95185   77.69642  12.907960   \n",
       "278                    0  1/4/2013 20:19  12.95185   77.69642  12.986284   \n",
       "297                    0   1/5/2013 8:59  12.95185   77.69642  13.022390   \n",
       "\n",
       "      to_long  \n",
       "6    77.65530  \n",
       "43   77.70688  \n",
       "78   77.70688  \n",
       "156  77.54625  \n",
       "159  77.57270  \n",
       "212  77.65530  \n",
       "225  77.70688  \n",
       "261  77.62418  \n",
       "278  77.65530  \n",
       "297  77.59492  "
      ]
     },
     "execution_count": 21,
     "metadata": {},
     "output_type": "execute_result"
    }
   ],
   "source": [
    "data[data['from_area_id']==571.0].head(10)"
   ]
  },
  {
   "cell_type": "code",
   "execution_count": 22,
   "metadata": {
    "colab": {
     "base_uri": "https://localhost:8080/"
    },
    "id": "uOQ00BT7BBmt",
    "outputId": "1c326fe7-bf7c-4916-e3bb-2c8b69f0c112"
   },
   "outputs": [
    {
     "data": {
      "text/plain": [
       "travel_type_id         0.0\n",
       "from_area_id           0.0\n",
       "from_date              0.0\n",
       "online_booking         0.0\n",
       "mobile_site_booking    0.0\n",
       "booking_created        0.0\n",
       "from_lat               0.0\n",
       "from_long              0.0\n",
       "to_lat                 0.0\n",
       "to_long                0.0\n",
       "dtype: float64"
      ]
     },
     "execution_count": 22,
     "metadata": {},
     "output_type": "execute_result"
    }
   ],
   "source": [
    "data.isnull().mean()"
   ]
  },
  {
   "cell_type": "code",
   "execution_count": 23,
   "metadata": {
    "colab": {
     "base_uri": "https://localhost:8080/"
    },
    "id": "INp13CGvGg6z",
    "outputId": "22691aba-053f-482e-a3e4-64eb017486d9"
   },
   "outputs": [
    {
     "data": {
      "text/plain": [
       "(43431, 10)"
      ]
     },
     "execution_count": 23,
     "metadata": {},
     "output_type": "execute_result"
    }
   ],
   "source": [
    "data.shape"
   ]
  },
  {
   "cell_type": "code",
   "execution_count": 24,
   "metadata": {
    "id": "2llnkj7VGtuk"
   },
   "outputs": [],
   "source": [
    "traveltype = pd.get_dummies(data['travel_type_id'],drop_first=True)\n",
    "#One Hot Encoding if number of distinct values is more than 5\n",
    "#Label Encoding if number of distinct values is less than 5"
   ]
  },
  {
   "cell_type": "code",
   "execution_count": 25,
   "metadata": {
    "id": "nZOFFFgeLMdg"
   },
   "outputs": [],
   "source": [
    "data = pd.concat([data,traveltype],axis=1)\n",
    "data = data.drop(['travel_type_id'],axis=1)"
   ]
  },
  {
   "cell_type": "code",
   "execution_count": 26,
   "metadata": {
    "id": "hv6R509oLFl0"
   },
   "outputs": [],
   "source": [
    "data.rename(columns={2:'traveltype_pointtopoint',3:'traveltype_hourly'},inplace=True)"
   ]
  },
  {
   "cell_type": "code",
   "execution_count": 27,
   "metadata": {
    "id": "7jalSY6dra5U"
   },
   "outputs": [],
   "source": [
    "def cal_distance(from_lat,from_long,to_lat,to_long):\n",
    "  return distance.distance((from_lat,from_long),(to_lat,to_long)).km"
   ]
  },
  {
   "cell_type": "code",
   "execution_count": 28,
   "metadata": {
    "id": "JDLuKjWpnHEF"
   },
   "outputs": [],
   "source": [
    "data['distance'] = data.apply(lambda row: cal_distance(row['from_lat'],row['from_long'],row['to_lat'],row['to_long']),axis=1)"
   ]
  },
  {
   "cell_type": "code",
   "execution_count": 29,
   "metadata": {
    "colab": {
     "base_uri": "https://localhost:8080/",
     "height": 113
    },
    "id": "hQb4L-43zrYM",
    "outputId": "064f3a90-4403-4ef9-fa91-127ea7459c2b"
   },
   "outputs": [
    {
     "data": {
      "text/html": [
       "<div>\n",
       "<style scoped>\n",
       "    .dataframe tbody tr th:only-of-type {\n",
       "        vertical-align: middle;\n",
       "    }\n",
       "\n",
       "    .dataframe tbody tr th {\n",
       "        vertical-align: top;\n",
       "    }\n",
       "\n",
       "    .dataframe thead th {\n",
       "        text-align: right;\n",
       "    }\n",
       "</style>\n",
       "<table border=\"1\" class=\"dataframe\">\n",
       "  <thead>\n",
       "    <tr style=\"text-align: right;\">\n",
       "      <th></th>\n",
       "      <th>from_area_id</th>\n",
       "      <th>from_date</th>\n",
       "      <th>online_booking</th>\n",
       "      <th>mobile_site_booking</th>\n",
       "      <th>booking_created</th>\n",
       "      <th>from_lat</th>\n",
       "      <th>from_long</th>\n",
       "      <th>to_lat</th>\n",
       "      <th>to_long</th>\n",
       "      <th>traveltype_pointtopoint</th>\n",
       "      <th>traveltype_hourly</th>\n",
       "      <th>distance</th>\n",
       "    </tr>\n",
       "  </thead>\n",
       "  <tbody>\n",
       "  </tbody>\n",
       "</table>\n",
       "</div>"
      ],
      "text/plain": [
       "Empty DataFrame\n",
       "Columns: [from_area_id, from_date, online_booking, mobile_site_booking, booking_created, from_lat, from_long, to_lat, to_long, traveltype_pointtopoint, traveltype_hourly, distance]\n",
       "Index: []"
      ]
     },
     "execution_count": 29,
     "metadata": {},
     "output_type": "execute_result"
    }
   ],
   "source": [
    "data[data['distance'] < 0]"
   ]
  },
  {
   "cell_type": "code",
   "execution_count": 30,
   "metadata": {
    "id": "UpXgpvIztxsO"
   },
   "outputs": [],
   "source": [
    "data = data.drop(['from_lat','from_long','to_lat','to_long'],axis=1)"
   ]
  },
  {
   "cell_type": "code",
   "execution_count": 31,
   "metadata": {
    "id": "f0w7AUZJ0Fj_"
   },
   "outputs": [],
   "source": [
    "data['from_date_dt'] = pd.to_datetime(data['from_date']).dt.strftime('%m/%d/%Y')\n",
    "data['from_time_tm'] = pd.to_datetime(data['from_date']).dt.strftime('%H:%M')\n",
    "data['booking_created_dt'] = pd.to_datetime(data['booking_created']).dt.strftime('%m/%d/%Y')\n",
    "data['booking_created_tm'] = pd.to_datetime(data['booking_created']).dt.strftime('%H:%M')"
   ]
  },
  {
   "cell_type": "code",
   "execution_count": 32,
   "metadata": {
    "id": "cM74voTI67Zn"
   },
   "outputs": [],
   "source": [
    "data['from_date_day'] = pd.to_datetime(data['from_date_dt']).dt.day_name()\n",
    "data['booking_created_day'] = pd.to_datetime(data['booking_created_dt']).dt.day_name()\n",
    "data['from_date_month'] = pd.to_datetime(data['from_date_dt']).dt.month_name()\n",
    "data['booking_created_month'] = pd.to_datetime(data['booking_created_dt']).dt.month_name()\n",
    "data['from_date_week'] = np.where((data['from_date_day']=='Saturday') | (data['from_date_day']=='Sunday'),'Weekend','Weekday',)\n",
    "data['booking_created_week'] = np.where((data['booking_created_day']=='Saturday') | (data['booking_created_day']=='Sunday'),'Weekend','Weekday',)"
   ]
  },
  {
   "cell_type": "code",
   "execution_count": 33,
   "metadata": {
    "id": "LDldkHt1cuR9"
   },
   "outputs": [],
   "source": [
    "cond = [(pd.to_datetime(data['from_time_tm']).dt.hour.between(5, 8)),\n",
    "        (pd.to_datetime(data['from_time_tm']).dt.hour.between(9, 12)),\n",
    "        (pd.to_datetime(data['from_time_tm']).dt.hour.between(13, 16)),\n",
    "        (pd.to_datetime(data['from_time_tm']).dt.hour.between(17, 20)),\n",
    "        ((pd.to_datetime(data['from_time_tm']).dt.hour.between(21, 24)) | (pd.to_datetime(data['from_time_tm']).dt.hour==0)),\n",
    "        (pd.to_datetime(data['from_time_tm']).dt.hour.between(1, 4))]\n",
    "values = ['Early Morning','Morning','Afternoon','Evening','Night','Late Night']\n",
    "data['from_date_session'] = np.select(cond,values)"
   ]
  },
  {
   "cell_type": "code",
   "execution_count": 34,
   "metadata": {
    "id": "TaHpLefPbRDh"
   },
   "outputs": [],
   "source": [
    "cond = [(pd.to_datetime(data['booking_created_tm']).dt.hour.between(5, 8)),\n",
    "        (pd.to_datetime(data['booking_created_tm']).dt.hour.between(9, 12)),\n",
    "        (pd.to_datetime(data['booking_created_tm']).dt.hour.between(13, 16)),\n",
    "        (pd.to_datetime(data['booking_created_tm']).dt.hour.between(17, 20)),\n",
    "        ((pd.to_datetime(data['booking_created_tm']).dt.hour.between(21, 24)) | (pd.to_datetime(data['booking_created_tm']).dt.hour==0)),\n",
    "        (pd.to_datetime(data['booking_created_tm']).dt.hour.between(1, 4))]\n",
    "values = ['Early Morning','Morning','Afternoon','Evening','Night','Late Night']\n",
    "data['booking_created_session'] = np.select(cond,values)"
   ]
  },
  {
   "cell_type": "code",
   "execution_count": 35,
   "metadata": {
    "id": "jiDLljroEoJH"
   },
   "outputs": [],
   "source": [
    "data['time_diff'] = (pd.to_datetime(data['from_date']) - pd.to_datetime(data['booking_created'])).astype('timedelta64[m]')"
   ]
  },
  {
   "cell_type": "code",
   "execution_count": 36,
   "metadata": {
    "colab": {
     "base_uri": "https://localhost:8080/",
     "height": 357
    },
    "id": "zAlYtdxtoKMH",
    "outputId": "f715857f-226d-470f-fb4c-eda6379233de"
   },
   "outputs": [
    {
     "data": {
      "text/html": [
       "<div>\n",
       "<style scoped>\n",
       "    .dataframe tbody tr th:only-of-type {\n",
       "        vertical-align: middle;\n",
       "    }\n",
       "\n",
       "    .dataframe tbody tr th {\n",
       "        vertical-align: top;\n",
       "    }\n",
       "\n",
       "    .dataframe thead th {\n",
       "        text-align: right;\n",
       "    }\n",
       "</style>\n",
       "<table border=\"1\" class=\"dataframe\">\n",
       "  <thead>\n",
       "    <tr style=\"text-align: right;\">\n",
       "      <th></th>\n",
       "      <th>from_area_id</th>\n",
       "      <th>from_date</th>\n",
       "      <th>online_booking</th>\n",
       "      <th>mobile_site_booking</th>\n",
       "      <th>booking_created</th>\n",
       "      <th>traveltype_pointtopoint</th>\n",
       "      <th>traveltype_hourly</th>\n",
       "      <th>distance</th>\n",
       "      <th>from_date_dt</th>\n",
       "      <th>from_time_tm</th>\n",
       "      <th>...</th>\n",
       "      <th>booking_created_tm</th>\n",
       "      <th>from_date_day</th>\n",
       "      <th>booking_created_day</th>\n",
       "      <th>from_date_month</th>\n",
       "      <th>booking_created_month</th>\n",
       "      <th>from_date_week</th>\n",
       "      <th>booking_created_week</th>\n",
       "      <th>from_date_session</th>\n",
       "      <th>booking_created_session</th>\n",
       "      <th>time_diff</th>\n",
       "    </tr>\n",
       "  </thead>\n",
       "  <tbody>\n",
       "    <tr>\n",
       "      <th>1763</th>\n",
       "      <td>1298.0</td>\n",
       "      <td>1/20/2013 14:15</td>\n",
       "      <td>0</td>\n",
       "      <td>0</td>\n",
       "      <td>1/20/2013 15:01</td>\n",
       "      <td>0</td>\n",
       "      <td>1</td>\n",
       "      <td>8.482630</td>\n",
       "      <td>01/20/2013</td>\n",
       "      <td>14:15</td>\n",
       "      <td>...</td>\n",
       "      <td>15:01</td>\n",
       "      <td>Sunday</td>\n",
       "      <td>Sunday</td>\n",
       "      <td>January</td>\n",
       "      <td>January</td>\n",
       "      <td>Weekend</td>\n",
       "      <td>Weekend</td>\n",
       "      <td>Afternoon</td>\n",
       "      <td>Afternoon</td>\n",
       "      <td>-46.0</td>\n",
       "    </tr>\n",
       "    <tr>\n",
       "      <th>2990</th>\n",
       "      <td>393.0</td>\n",
       "      <td>2/1/2013 9:45</td>\n",
       "      <td>0</td>\n",
       "      <td>0</td>\n",
       "      <td>2/1/2013 13:18</td>\n",
       "      <td>0</td>\n",
       "      <td>1</td>\n",
       "      <td>28.576256</td>\n",
       "      <td>02/01/2013</td>\n",
       "      <td>09:45</td>\n",
       "      <td>...</td>\n",
       "      <td>13:18</td>\n",
       "      <td>Friday</td>\n",
       "      <td>Friday</td>\n",
       "      <td>February</td>\n",
       "      <td>February</td>\n",
       "      <td>Weekday</td>\n",
       "      <td>Weekday</td>\n",
       "      <td>Morning</td>\n",
       "      <td>Afternoon</td>\n",
       "      <td>-213.0</td>\n",
       "    </tr>\n",
       "    <tr>\n",
       "      <th>4228</th>\n",
       "      <td>571.0</td>\n",
       "      <td>2/13/2013 18:00</td>\n",
       "      <td>0</td>\n",
       "      <td>0</td>\n",
       "      <td>2/13/2013 18:29</td>\n",
       "      <td>0</td>\n",
       "      <td>1</td>\n",
       "      <td>5.866543</td>\n",
       "      <td>02/13/2013</td>\n",
       "      <td>18:00</td>\n",
       "      <td>...</td>\n",
       "      <td>18:29</td>\n",
       "      <td>Wednesday</td>\n",
       "      <td>Wednesday</td>\n",
       "      <td>February</td>\n",
       "      <td>February</td>\n",
       "      <td>Weekday</td>\n",
       "      <td>Weekday</td>\n",
       "      <td>Evening</td>\n",
       "      <td>Evening</td>\n",
       "      <td>-29.0</td>\n",
       "    </tr>\n",
       "    <tr>\n",
       "      <th>5303</th>\n",
       "      <td>1068.0</td>\n",
       "      <td>2/23/2013 18:00</td>\n",
       "      <td>0</td>\n",
       "      <td>0</td>\n",
       "      <td>2/23/2013 18:03</td>\n",
       "      <td>0</td>\n",
       "      <td>1</td>\n",
       "      <td>3.547502</td>\n",
       "      <td>02/23/2013</td>\n",
       "      <td>18:00</td>\n",
       "      <td>...</td>\n",
       "      <td>18:03</td>\n",
       "      <td>Saturday</td>\n",
       "      <td>Saturday</td>\n",
       "      <td>February</td>\n",
       "      <td>February</td>\n",
       "      <td>Weekend</td>\n",
       "      <td>Weekend</td>\n",
       "      <td>Evening</td>\n",
       "      <td>Evening</td>\n",
       "      <td>-3.0</td>\n",
       "    </tr>\n",
       "    <tr>\n",
       "      <th>6106</th>\n",
       "      <td>1010.0</td>\n",
       "      <td>3/4/2013 0:30</td>\n",
       "      <td>0</td>\n",
       "      <td>0</td>\n",
       "      <td>3/4/2013 2:00</td>\n",
       "      <td>0</td>\n",
       "      <td>1</td>\n",
       "      <td>10.133543</td>\n",
       "      <td>03/04/2013</td>\n",
       "      <td>00:30</td>\n",
       "      <td>...</td>\n",
       "      <td>02:00</td>\n",
       "      <td>Monday</td>\n",
       "      <td>Monday</td>\n",
       "      <td>March</td>\n",
       "      <td>March</td>\n",
       "      <td>Weekday</td>\n",
       "      <td>Weekday</td>\n",
       "      <td>Night</td>\n",
       "      <td>Late Night</td>\n",
       "      <td>-90.0</td>\n",
       "    </tr>\n",
       "  </tbody>\n",
       "</table>\n",
       "<p>5 rows × 21 columns</p>\n",
       "</div>"
      ],
      "text/plain": [
       "      from_area_id        from_date  online_booking  mobile_site_booking  \\\n",
       "1763        1298.0  1/20/2013 14:15               0                    0   \n",
       "2990         393.0    2/1/2013 9:45               0                    0   \n",
       "4228         571.0  2/13/2013 18:00               0                    0   \n",
       "5303        1068.0  2/23/2013 18:00               0                    0   \n",
       "6106        1010.0    3/4/2013 0:30               0                    0   \n",
       "\n",
       "      booking_created  traveltype_pointtopoint  traveltype_hourly   distance  \\\n",
       "1763  1/20/2013 15:01                        0                  1   8.482630   \n",
       "2990   2/1/2013 13:18                        0                  1  28.576256   \n",
       "4228  2/13/2013 18:29                        0                  1   5.866543   \n",
       "5303  2/23/2013 18:03                        0                  1   3.547502   \n",
       "6106    3/4/2013 2:00                        0                  1  10.133543   \n",
       "\n",
       "     from_date_dt from_time_tm  ... booking_created_tm from_date_day  \\\n",
       "1763   01/20/2013        14:15  ...              15:01        Sunday   \n",
       "2990   02/01/2013        09:45  ...              13:18        Friday   \n",
       "4228   02/13/2013        18:00  ...              18:29     Wednesday   \n",
       "5303   02/23/2013        18:00  ...              18:03      Saturday   \n",
       "6106   03/04/2013        00:30  ...              02:00        Monday   \n",
       "\n",
       "     booking_created_day from_date_month booking_created_month from_date_week  \\\n",
       "1763              Sunday         January               January        Weekend   \n",
       "2990              Friday        February              February        Weekday   \n",
       "4228           Wednesday        February              February        Weekday   \n",
       "5303            Saturday        February              February        Weekend   \n",
       "6106              Monday           March                 March        Weekday   \n",
       "\n",
       "     booking_created_week from_date_session booking_created_session time_diff  \n",
       "1763              Weekend         Afternoon               Afternoon     -46.0  \n",
       "2990              Weekday           Morning               Afternoon    -213.0  \n",
       "4228              Weekday           Evening                 Evening     -29.0  \n",
       "5303              Weekend           Evening                 Evening      -3.0  \n",
       "6106              Weekday             Night              Late Night     -90.0  \n",
       "\n",
       "[5 rows x 21 columns]"
      ]
     },
     "execution_count": 36,
     "metadata": {},
     "output_type": "execute_result"
    }
   ],
   "source": [
    "data[data['time_diff'] < 0].head()"
   ]
  },
  {
   "cell_type": "code",
   "execution_count": 37,
   "metadata": {
    "colab": {
     "base_uri": "https://localhost:8080/"
    },
    "id": "l0w1NUbomc6p",
    "outputId": "d870f9f7-d559-42ce-de4b-9f82ddf24049"
   },
   "outputs": [
    {
     "data": {
      "text/plain": [
       "42"
      ]
     },
     "execution_count": 37,
     "metadata": {},
     "output_type": "execute_result"
    }
   ],
   "source": [
    "data[data['time_diff'] < 0]['time_diff'].count()"
   ]
  },
  {
   "cell_type": "code",
   "execution_count": 38,
   "metadata": {
    "id": "SsQsj1honXx-"
   },
   "outputs": [],
   "source": [
    "data = data.drop(['from_date','booking_created'],axis=1)"
   ]
  },
  {
   "cell_type": "code",
   "execution_count": 39,
   "metadata": {
    "id": "DeD7e_GMbTev"
   },
   "outputs": [],
   "source": [
    "data = data.drop(['from_date_dt','from_time_tm','booking_created_dt','booking_created_tm'],axis=1)"
   ]
  },
  {
   "cell_type": "code",
   "execution_count": 40,
   "metadata": {
    "id": "ySf4s12ym1QC"
   },
   "outputs": [],
   "source": [
    "data_merged = pd.concat([data,target],axis=1,join='inner')\n",
    "data['from_area_id'] = round(data_merged.groupby('from_area_id')['Car_Cancellation'].sum()/data_merged.groupby('from_area_id')['Car_Cancellation'].count(),2)\n",
    "data['from_area_id'].replace(np.nan,0,inplace=True)"
   ]
  },
  {
   "cell_type": "code",
   "execution_count": 41,
   "metadata": {
    "id": "F4JyNPUSogg1"
   },
   "outputs": [],
   "source": [
    "cond = [(data['from_area_id'].astype('float').between(0,0.33)),\n",
    "        (data['from_area_id'].astype('float').between(0.34,0.66)),\n",
    "        (data['from_area_id'].astype('float').between(0.67,1.0))]\n",
    "values = ['Low Cancellation','Medium Cancellation','High Cancellation']\n",
    "data['from_area_id'] = np.select(cond,values)"
   ]
  },
  {
   "cell_type": "markdown",
   "metadata": {
    "id": "U8ThjueDi6Zi"
   },
   "source": [
    "#Data Visualization"
   ]
  },
  {
   "cell_type": "code",
   "execution_count": 42,
   "metadata": {
    "colab": {
     "base_uri": "https://localhost:8080/",
     "height": 357
    },
    "id": "dwPfvpIn1MBh",
    "outputId": "943bfa40-07da-487e-8639-41c0b9900fcd"
   },
   "outputs": [
    {
     "data": {
      "text/html": [
       "<div>\n",
       "<style scoped>\n",
       "    .dataframe tbody tr th:only-of-type {\n",
       "        vertical-align: middle;\n",
       "    }\n",
       "\n",
       "    .dataframe tbody tr th {\n",
       "        vertical-align: top;\n",
       "    }\n",
       "\n",
       "    .dataframe thead th {\n",
       "        text-align: right;\n",
       "    }\n",
       "</style>\n",
       "<table border=\"1\" class=\"dataframe\">\n",
       "  <thead>\n",
       "    <tr style=\"text-align: right;\">\n",
       "      <th></th>\n",
       "      <th>from_area_id</th>\n",
       "      <th>online_booking</th>\n",
       "      <th>mobile_site_booking</th>\n",
       "      <th>traveltype_pointtopoint</th>\n",
       "      <th>traveltype_hourly</th>\n",
       "      <th>distance</th>\n",
       "      <th>from_date_day</th>\n",
       "      <th>booking_created_day</th>\n",
       "      <th>from_date_month</th>\n",
       "      <th>booking_created_month</th>\n",
       "      <th>from_date_week</th>\n",
       "      <th>booking_created_week</th>\n",
       "      <th>from_date_session</th>\n",
       "      <th>booking_created_session</th>\n",
       "      <th>time_diff</th>\n",
       "    </tr>\n",
       "  </thead>\n",
       "  <tbody>\n",
       "    <tr>\n",
       "      <th>0</th>\n",
       "      <td>Low Cancellation</td>\n",
       "      <td>0</td>\n",
       "      <td>0</td>\n",
       "      <td>1</td>\n",
       "      <td>0</td>\n",
       "      <td>3.980687</td>\n",
       "      <td>Tuesday</td>\n",
       "      <td>Tuesday</td>\n",
       "      <td>January</td>\n",
       "      <td>January</td>\n",
       "      <td>Weekday</td>\n",
       "      <td>Weekday</td>\n",
       "      <td>Late Night</td>\n",
       "      <td>Late Night</td>\n",
       "      <td>21.0</td>\n",
       "    </tr>\n",
       "    <tr>\n",
       "      <th>1</th>\n",
       "      <td>Low Cancellation</td>\n",
       "      <td>0</td>\n",
       "      <td>0</td>\n",
       "      <td>1</td>\n",
       "      <td>0</td>\n",
       "      <td>14.004432</td>\n",
       "      <td>Tuesday</td>\n",
       "      <td>Tuesday</td>\n",
       "      <td>January</td>\n",
       "      <td>January</td>\n",
       "      <td>Weekday</td>\n",
       "      <td>Weekday</td>\n",
       "      <td>Morning</td>\n",
       "      <td>Late Night</td>\n",
       "      <td>395.0</td>\n",
       "    </tr>\n",
       "    <tr>\n",
       "      <th>2</th>\n",
       "      <td>Low Cancellation</td>\n",
       "      <td>0</td>\n",
       "      <td>0</td>\n",
       "      <td>1</td>\n",
       "      <td>0</td>\n",
       "      <td>12.648909</td>\n",
       "      <td>Tuesday</td>\n",
       "      <td>Tuesday</td>\n",
       "      <td>January</td>\n",
       "      <td>January</td>\n",
       "      <td>Weekday</td>\n",
       "      <td>Weekday</td>\n",
       "      <td>Late Night</td>\n",
       "      <td>Late Night</td>\n",
       "      <td>22.0</td>\n",
       "    </tr>\n",
       "    <tr>\n",
       "      <th>3</th>\n",
       "      <td>Low Cancellation</td>\n",
       "      <td>0</td>\n",
       "      <td>0</td>\n",
       "      <td>1</td>\n",
       "      <td>0</td>\n",
       "      <td>9.534596</td>\n",
       "      <td>Tuesday</td>\n",
       "      <td>Tuesday</td>\n",
       "      <td>January</td>\n",
       "      <td>January</td>\n",
       "      <td>Weekday</td>\n",
       "      <td>Weekday</td>\n",
       "      <td>Early Morning</td>\n",
       "      <td>Late Night</td>\n",
       "      <td>66.0</td>\n",
       "    </tr>\n",
       "    <tr>\n",
       "      <th>4</th>\n",
       "      <td>Low Cancellation</td>\n",
       "      <td>0</td>\n",
       "      <td>0</td>\n",
       "      <td>1</td>\n",
       "      <td>0</td>\n",
       "      <td>14.655467</td>\n",
       "      <td>Tuesday</td>\n",
       "      <td>Tuesday</td>\n",
       "      <td>January</td>\n",
       "      <td>January</td>\n",
       "      <td>Weekday</td>\n",
       "      <td>Weekday</td>\n",
       "      <td>Morning</td>\n",
       "      <td>Early Morning</td>\n",
       "      <td>67.0</td>\n",
       "    </tr>\n",
       "  </tbody>\n",
       "</table>\n",
       "</div>"
      ],
      "text/plain": [
       "       from_area_id  online_booking  mobile_site_booking  \\\n",
       "0  Low Cancellation               0                    0   \n",
       "1  Low Cancellation               0                    0   \n",
       "2  Low Cancellation               0                    0   \n",
       "3  Low Cancellation               0                    0   \n",
       "4  Low Cancellation               0                    0   \n",
       "\n",
       "   traveltype_pointtopoint  traveltype_hourly   distance from_date_day  \\\n",
       "0                        1                  0   3.980687       Tuesday   \n",
       "1                        1                  0  14.004432       Tuesday   \n",
       "2                        1                  0  12.648909       Tuesday   \n",
       "3                        1                  0   9.534596       Tuesday   \n",
       "4                        1                  0  14.655467       Tuesday   \n",
       "\n",
       "  booking_created_day from_date_month booking_created_month from_date_week  \\\n",
       "0             Tuesday         January               January        Weekday   \n",
       "1             Tuesday         January               January        Weekday   \n",
       "2             Tuesday         January               January        Weekday   \n",
       "3             Tuesday         January               January        Weekday   \n",
       "4             Tuesday         January               January        Weekday   \n",
       "\n",
       "  booking_created_week from_date_session booking_created_session  time_diff  \n",
       "0              Weekday        Late Night              Late Night       21.0  \n",
       "1              Weekday           Morning              Late Night      395.0  \n",
       "2              Weekday        Late Night              Late Night       22.0  \n",
       "3              Weekday     Early Morning              Late Night       66.0  \n",
       "4              Weekday           Morning           Early Morning       67.0  "
      ]
     },
     "execution_count": 42,
     "metadata": {},
     "output_type": "execute_result"
    }
   ],
   "source": [
    "data.head()"
   ]
  },
  {
   "cell_type": "code",
   "execution_count": 43,
   "metadata": {
    "colab": {
     "base_uri": "https://localhost:8080/"
    },
    "id": "LxhE3EoKtdGu",
    "outputId": "847ed792-9426-498c-8e3e-ebe60bb7d367"
   },
   "outputs": [
    {
     "name": "stdout",
     "output_type": "stream",
     "text": [
      "<class 'pandas.core.frame.DataFrame'>\n",
      "RangeIndex: 43431 entries, 0 to 43430\n",
      "Data columns (total 15 columns):\n",
      " #   Column                   Non-Null Count  Dtype  \n",
      "---  ------                   --------------  -----  \n",
      " 0   from_area_id             43431 non-null  object \n",
      " 1   online_booking           43431 non-null  int64  \n",
      " 2   mobile_site_booking      43431 non-null  int64  \n",
      " 3   traveltype_pointtopoint  43431 non-null  uint8  \n",
      " 4   traveltype_hourly        43431 non-null  uint8  \n",
      " 5   distance                 43431 non-null  float64\n",
      " 6   from_date_day            43431 non-null  object \n",
      " 7   booking_created_day      43431 non-null  object \n",
      " 8   from_date_month          43431 non-null  object \n",
      " 9   booking_created_month    43431 non-null  object \n",
      " 10  from_date_week           43431 non-null  object \n",
      " 11  booking_created_week     43431 non-null  object \n",
      " 12  from_date_session        43431 non-null  object \n",
      " 13  booking_created_session  43431 non-null  object \n",
      " 14  time_diff                43431 non-null  float64\n",
      "dtypes: float64(2), int64(2), object(9), uint8(2)\n",
      "memory usage: 4.4+ MB\n"
     ]
    }
   ],
   "source": [
    "data.info()"
   ]
  },
  {
   "cell_type": "code",
   "execution_count": 44,
   "metadata": {
    "colab": {
     "base_uri": "https://localhost:8080/"
    },
    "id": "8mm-RpKrR7Yw",
    "outputId": "43d3997e-07df-43d3-87a5-32208943c37b"
   },
   "outputs": [
    {
     "data": {
      "text/plain": [
       "Low Cancellation       43415\n",
       "Medium Cancellation       11\n",
       "High Cancellation          5\n",
       "Name: from_area_id, dtype: int64"
      ]
     },
     "execution_count": 44,
     "metadata": {},
     "output_type": "execute_result"
    }
   ],
   "source": [
    "data['from_area_id'].value_counts()"
   ]
  },
  {
   "cell_type": "code",
   "execution_count": 45,
   "metadata": {
    "colab": {
     "base_uri": "https://localhost:8080/",
     "height": 1000
    },
    "id": "2eQWyHfcsoqD",
    "outputId": "1cad0ebb-0e42-4f3a-beff-a615bcf29f80"
   },
   "outputs": [
    {
     "data": {
      "image/png": "[encoded data removed]",
      "text/plain": [
       "<Figure size 432x288 with 1 Axes>"
      ]
     },
     "metadata": {
      "needs_background": "light"
     },
     "output_type": "display_data"
    },
    {
     "data": {
      "image/png": "[encoded data removed]",
      "text/plain": [
       "<Figure size 432x288 with 1 Axes>"
      ]
     },
     "metadata": {
      "needs_background": "light"
     },
     "output_type": "display_data"
    },
    {
     "data": {
      "image/png": "[encoded data removed]",
      "text/plain": [
       "<Figure size 432x288 with 1 Axes>"
      ]
     },
     "metadata": {
      "needs_background": "light"
     },
     "output_type": "display_data"
    },
    {
     "data": {
      "image/png": "[encoded data removed]",
      "text/plain": [
       "<Figure size 432x288 with 1 Axes>"
      ]
     },
     "metadata": {
      "needs_background": "light"
     },
     "output_type": "display_data"
    },
    {
     "data": {
      "image/png": "[encoded data removed]",
      "text/plain": [
       "<Figure size 432x288 with 1 Axes>"
      ]
     },
     "metadata": {
      "needs_background": "light"
     },
     "output_type": "display_data"
    },
    {
     "data": {
      "image/png": "[encoded data removed]",
      "text/plain": [
       "<Figure size 432x288 with 1 Axes>"
      ]
     },
     "metadata": {
      "needs_background": "light"
     },
     "output_type": "display_data"
    },
    {
     "data": {
      "image/png": "[encoded data removed]",
      "text/plain": [
       "<Figure size 432x288 with 1 Axes>"
      ]
     },
     "metadata": {
      "needs_background": "light"
     },
     "output_type": "display_data"
    },
    {
     "data": {
      "image/png": "[encoded data removed]",
      "text/plain": [
       "<Figure size 432x288 with 1 Axes>"
      ]
     },
     "metadata": {
      "needs_background": "light"
     },
     "output_type": "display_data"
    },
    {
     "data": {
      "image/png": "[encoded data removed]",
      "text/plain": [
       "<Figure size 432x288 with 1 Axes>"
      ]
     },
     "metadata": {
      "needs_background": "light"
     },
     "output_type": "display_data"
    }
   ],
   "source": [
    "for col in data.columns:\n",
    "  if data[col].dtype == 'object':\n",
    "    data[col].value_counts().plot.bar()\n",
    "    plt.title(col)\n",
    "    plt.show()"
   ]
  },
  {
   "cell_type": "markdown",
   "metadata": {
    "id": "OcQF4oES0C2N"
   },
   "source": [
    "#Data Encoding"
   ]
  },
  {
   "cell_type": "code",
   "execution_count": 46,
   "metadata": {
    "id": "SgStM1M61T9M"
   },
   "outputs": [],
   "source": [
    "num = data.select_dtypes(include='number')\n",
    "char = data.select_dtypes(include='object')"
   ]
  },
  {
   "cell_type": "code",
   "execution_count": 47,
   "metadata": {
    "colab": {
     "base_uri": "https://localhost:8080/",
     "height": 206
    },
    "id": "Nh0DJ8OR1lEH",
    "outputId": "58cacd3e-208b-4b86-da39-28fdc5a10cd7"
   },
   "outputs": [
    {
     "data": {
      "text/html": [
       "<div>\n",
       "<style scoped>\n",
       "    .dataframe tbody tr th:only-of-type {\n",
       "        vertical-align: middle;\n",
       "    }\n",
       "\n",
       "    .dataframe tbody tr th {\n",
       "        vertical-align: top;\n",
       "    }\n",
       "\n",
       "    .dataframe thead th {\n",
       "        text-align: right;\n",
       "    }\n",
       "</style>\n",
       "<table border=\"1\" class=\"dataframe\">\n",
       "  <thead>\n",
       "    <tr style=\"text-align: right;\">\n",
       "      <th></th>\n",
       "      <th>online_booking</th>\n",
       "      <th>mobile_site_booking</th>\n",
       "      <th>traveltype_pointtopoint</th>\n",
       "      <th>traveltype_hourly</th>\n",
       "      <th>distance</th>\n",
       "      <th>time_diff</th>\n",
       "    </tr>\n",
       "  </thead>\n",
       "  <tbody>\n",
       "    <tr>\n",
       "      <th>0</th>\n",
       "      <td>0</td>\n",
       "      <td>0</td>\n",
       "      <td>1</td>\n",
       "      <td>0</td>\n",
       "      <td>3.980687</td>\n",
       "      <td>21.0</td>\n",
       "    </tr>\n",
       "    <tr>\n",
       "      <th>1</th>\n",
       "      <td>0</td>\n",
       "      <td>0</td>\n",
       "      <td>1</td>\n",
       "      <td>0</td>\n",
       "      <td>14.004432</td>\n",
       "      <td>395.0</td>\n",
       "    </tr>\n",
       "    <tr>\n",
       "      <th>2</th>\n",
       "      <td>0</td>\n",
       "      <td>0</td>\n",
       "      <td>1</td>\n",
       "      <td>0</td>\n",
       "      <td>12.648909</td>\n",
       "      <td>22.0</td>\n",
       "    </tr>\n",
       "    <tr>\n",
       "      <th>3</th>\n",
       "      <td>0</td>\n",
       "      <td>0</td>\n",
       "      <td>1</td>\n",
       "      <td>0</td>\n",
       "      <td>9.534596</td>\n",
       "      <td>66.0</td>\n",
       "    </tr>\n",
       "    <tr>\n",
       "      <th>4</th>\n",
       "      <td>0</td>\n",
       "      <td>0</td>\n",
       "      <td>1</td>\n",
       "      <td>0</td>\n",
       "      <td>14.655467</td>\n",
       "      <td>67.0</td>\n",
       "    </tr>\n",
       "  </tbody>\n",
       "</table>\n",
       "</div>"
      ],
      "text/plain": [
       "   online_booking  mobile_site_booking  traveltype_pointtopoint  \\\n",
       "0               0                    0                        1   \n",
       "1               0                    0                        1   \n",
       "2               0                    0                        1   \n",
       "3               0                    0                        1   \n",
       "4               0                    0                        1   \n",
       "\n",
       "   traveltype_hourly   distance  time_diff  \n",
       "0                  0   3.980687       21.0  \n",
       "1                  0  14.004432      395.0  \n",
       "2                  0  12.648909       22.0  \n",
       "3                  0   9.534596       66.0  \n",
       "4                  0  14.655467       67.0  "
      ]
     },
     "execution_count": 47,
     "metadata": {},
     "output_type": "execute_result"
    }
   ],
   "source": [
    "num.head()"
   ]
  },
  {
   "cell_type": "code",
   "execution_count": 48,
   "metadata": {
    "colab": {
     "base_uri": "https://localhost:8080/",
     "height": 357
    },
    "id": "gO6ZdFxo1oPD",
    "outputId": "f0faaec1-a429-49d7-fddc-7acec49d8b0d"
   },
   "outputs": [
    {
     "data": {
      "text/html": [
       "<div>\n",
       "<style scoped>\n",
       "    .dataframe tbody tr th:only-of-type {\n",
       "        vertical-align: middle;\n",
       "    }\n",
       "\n",
       "    .dataframe tbody tr th {\n",
       "        vertical-align: top;\n",
       "    }\n",
       "\n",
       "    .dataframe thead th {\n",
       "        text-align: right;\n",
       "    }\n",
       "</style>\n",
       "<table border=\"1\" class=\"dataframe\">\n",
       "  <thead>\n",
       "    <tr style=\"text-align: right;\">\n",
       "      <th></th>\n",
       "      <th>from_area_id</th>\n",
       "      <th>from_date_day</th>\n",
       "      <th>booking_created_day</th>\n",
       "      <th>from_date_month</th>\n",
       "      <th>booking_created_month</th>\n",
       "      <th>from_date_week</th>\n",
       "      <th>booking_created_week</th>\n",
       "      <th>from_date_session</th>\n",
       "      <th>booking_created_session</th>\n",
       "    </tr>\n",
       "  </thead>\n",
       "  <tbody>\n",
       "    <tr>\n",
       "      <th>0</th>\n",
       "      <td>Low Cancellation</td>\n",
       "      <td>Tuesday</td>\n",
       "      <td>Tuesday</td>\n",
       "      <td>January</td>\n",
       "      <td>January</td>\n",
       "      <td>Weekday</td>\n",
       "      <td>Weekday</td>\n",
       "      <td>Late Night</td>\n",
       "      <td>Late Night</td>\n",
       "    </tr>\n",
       "    <tr>\n",
       "      <th>1</th>\n",
       "      <td>Low Cancellation</td>\n",
       "      <td>Tuesday</td>\n",
       "      <td>Tuesday</td>\n",
       "      <td>January</td>\n",
       "      <td>January</td>\n",
       "      <td>Weekday</td>\n",
       "      <td>Weekday</td>\n",
       "      <td>Morning</td>\n",
       "      <td>Late Night</td>\n",
       "    </tr>\n",
       "    <tr>\n",
       "      <th>2</th>\n",
       "      <td>Low Cancellation</td>\n",
       "      <td>Tuesday</td>\n",
       "      <td>Tuesday</td>\n",
       "      <td>January</td>\n",
       "      <td>January</td>\n",
       "      <td>Weekday</td>\n",
       "      <td>Weekday</td>\n",
       "      <td>Late Night</td>\n",
       "      <td>Late Night</td>\n",
       "    </tr>\n",
       "    <tr>\n",
       "      <th>3</th>\n",
       "      <td>Low Cancellation</td>\n",
       "      <td>Tuesday</td>\n",
       "      <td>Tuesday</td>\n",
       "      <td>January</td>\n",
       "      <td>January</td>\n",
       "      <td>Weekday</td>\n",
       "      <td>Weekday</td>\n",
       "      <td>Early Morning</td>\n",
       "      <td>Late Night</td>\n",
       "    </tr>\n",
       "    <tr>\n",
       "      <th>4</th>\n",
       "      <td>Low Cancellation</td>\n",
       "      <td>Tuesday</td>\n",
       "      <td>Tuesday</td>\n",
       "      <td>January</td>\n",
       "      <td>January</td>\n",
       "      <td>Weekday</td>\n",
       "      <td>Weekday</td>\n",
       "      <td>Morning</td>\n",
       "      <td>Early Morning</td>\n",
       "    </tr>\n",
       "  </tbody>\n",
       "</table>\n",
       "</div>"
      ],
      "text/plain": [
       "       from_area_id from_date_day booking_created_day from_date_month  \\\n",
       "0  Low Cancellation       Tuesday             Tuesday         January   \n",
       "1  Low Cancellation       Tuesday             Tuesday         January   \n",
       "2  Low Cancellation       Tuesday             Tuesday         January   \n",
       "3  Low Cancellation       Tuesday             Tuesday         January   \n",
       "4  Low Cancellation       Tuesday             Tuesday         January   \n",
       "\n",
       "  booking_created_month from_date_week booking_created_week from_date_session  \\\n",
       "0               January        Weekday              Weekday        Late Night   \n",
       "1               January        Weekday              Weekday           Morning   \n",
       "2               January        Weekday              Weekday        Late Night   \n",
       "3               January        Weekday              Weekday     Early Morning   \n",
       "4               January        Weekday              Weekday           Morning   \n",
       "\n",
       "  booking_created_session  \n",
       "0              Late Night  \n",
       "1              Late Night  \n",
       "2              Late Night  \n",
       "3              Late Night  \n",
       "4           Early Morning  "
      ]
     },
     "execution_count": 48,
     "metadata": {},
     "output_type": "execute_result"
    }
   ],
   "source": [
    "char.head()"
   ]
  },
  {
   "cell_type": "code",
   "execution_count": 49,
   "metadata": {
    "colab": {
     "base_uri": "https://localhost:8080/",
     "height": 1000
    },
    "id": "0LItKR1R2Mt4",
    "outputId": "9a1ec094-ca93-4685-b455-66be6e918376"
   },
   "outputs": [
    {
     "data": {
      "image/png": "[encoded data removed]",
      "text/plain": [
       "<Figure size 432x288 with 1 Axes>"
      ]
     },
     "metadata": {
      "needs_background": "light"
     },
     "output_type": "display_data"
    },
    {
     "data": {
      "image/png": "[encoded data removed]",
      "text/plain": [
       "<Figure size 432x288 with 1 Axes>"
      ]
     },
     "metadata": {
      "needs_background": "light"
     },
     "output_type": "display_data"
    },
    {
     "data": {
      "image/png": "[encoded data removed]",
      "text/plain": [
       "<Figure size 432x288 with 1 Axes>"
      ]
     },
     "metadata": {
      "needs_background": "light"
     },
     "output_type": "display_data"
    },
    {
     "data": {
      "image/png": "[encoded data removed]",
      "text/plain": [
       "<Figure size 432x288 with 1 Axes>"
      ]
     },
     "metadata": {
      "needs_background": "light"
     },
     "output_type": "display_data"
    },
    {
     "data": {
      "image/png": "[encoded data removed]",
      "text/plain": [
       "<Figure size 432x288 with 1 Axes>"
      ]
     },
     "metadata": {
      "needs_background": "light"
     },
     "output_type": "display_data"
    },
    {
     "data": {
      "image/png": "[encoded data removed]",
      "text/plain": [
       "<Figure size 432x288 with 1 Axes>"
      ]
     },
     "metadata": {
      "needs_background": "light"
     },
     "output_type": "display_data"
    },
    {
     "data": {
      "image/png": "[encoded data removed]",
      "text/plain": [
       "<Figure size 432x288 with 1 Axes>"
      ]
     },
     "metadata": {
      "needs_background": "light"
     },
     "output_type": "display_data"
    },
    {
     "data": {
      "image/png": "[encoded data removed]",
      "text/plain": [
       "<Figure size 432x288 with 1 Axes>"
      ]
     },
     "metadata": {
      "needs_background": "light"
     },
     "output_type": "display_data"
    },
    {
     "data": {
      "image/png": "[encoded data removed]",
      "text/plain": [
       "<Figure size 432x288 with 1 Axes>"
      ]
     },
     "metadata": {
      "needs_background": "light"
     },
     "output_type": "display_data"
    }
   ],
   "source": [
    "X_char_merged = pd.concat([char,target],axis=1,join='inner')\n",
    "\n",
    "from numpy import mean\n",
    "for col in (char.columns):\n",
    "    plt.figure()\n",
    "    sns.barplot(x=col,y='Car_Cancellation',data=X_char_merged,estimator=mean)\n",
    "plt.show()"
   ]
  },
  {
   "cell_type": "code",
   "execution_count": 50,
   "metadata": {
    "colab": {
     "base_uri": "https://localhost:8080/"
    },
    "id": "QIcTMU5N3SO2",
    "outputId": "3cb1e42b-4925-4ee3-d111-94d52dbe41c5"
   },
   "outputs": [
    {
     "data": {
      "text/plain": [
       "(43431, 47)"
      ]
     },
     "execution_count": 50,
     "metadata": {},
     "output_type": "execute_result"
    }
   ],
   "source": [
    "X_char_dum = pd.get_dummies(char, drop_first = True)\n",
    "X_char_dum.shape"
   ]
  },
  {
   "cell_type": "code",
   "execution_count": 51,
   "metadata": {
    "colab": {
     "base_uri": "https://localhost:8080/",
     "height": 288
    },
    "id": "JQi9c_pu3YAe",
    "outputId": "cedd210e-daae-47a0-f3ee-e808f7c29896"
   },
   "outputs": [
    {
     "data": {
      "text/html": [
       "<div>\n",
       "<style scoped>\n",
       "    .dataframe tbody tr th:only-of-type {\n",
       "        vertical-align: middle;\n",
       "    }\n",
       "\n",
       "    .dataframe tbody tr th {\n",
       "        vertical-align: top;\n",
       "    }\n",
       "\n",
       "    .dataframe thead th {\n",
       "        text-align: right;\n",
       "    }\n",
       "</style>\n",
       "<table border=\"1\" class=\"dataframe\">\n",
       "  <thead>\n",
       "    <tr style=\"text-align: right;\">\n",
       "      <th></th>\n",
       "      <th>from_area_id_Low Cancellation</th>\n",
       "      <th>from_area_id_Medium Cancellation</th>\n",
       "      <th>from_date_day_Monday</th>\n",
       "      <th>from_date_day_Saturday</th>\n",
       "      <th>from_date_day_Sunday</th>\n",
       "      <th>from_date_day_Thursday</th>\n",
       "      <th>from_date_day_Tuesday</th>\n",
       "      <th>from_date_day_Wednesday</th>\n",
       "      <th>booking_created_day_Monday</th>\n",
       "      <th>booking_created_day_Saturday</th>\n",
       "      <th>...</th>\n",
       "      <th>from_date_session_Early Morning</th>\n",
       "      <th>from_date_session_Evening</th>\n",
       "      <th>from_date_session_Late Night</th>\n",
       "      <th>from_date_session_Morning</th>\n",
       "      <th>from_date_session_Night</th>\n",
       "      <th>booking_created_session_Early Morning</th>\n",
       "      <th>booking_created_session_Evening</th>\n",
       "      <th>booking_created_session_Late Night</th>\n",
       "      <th>booking_created_session_Morning</th>\n",
       "      <th>booking_created_session_Night</th>\n",
       "    </tr>\n",
       "  </thead>\n",
       "  <tbody>\n",
       "    <tr>\n",
       "      <th>0</th>\n",
       "      <td>1</td>\n",
       "      <td>0</td>\n",
       "      <td>0</td>\n",
       "      <td>0</td>\n",
       "      <td>0</td>\n",
       "      <td>0</td>\n",
       "      <td>1</td>\n",
       "      <td>0</td>\n",
       "      <td>0</td>\n",
       "      <td>0</td>\n",
       "      <td>...</td>\n",
       "      <td>0</td>\n",
       "      <td>0</td>\n",
       "      <td>1</td>\n",
       "      <td>0</td>\n",
       "      <td>0</td>\n",
       "      <td>0</td>\n",
       "      <td>0</td>\n",
       "      <td>1</td>\n",
       "      <td>0</td>\n",
       "      <td>0</td>\n",
       "    </tr>\n",
       "    <tr>\n",
       "      <th>1</th>\n",
       "      <td>1</td>\n",
       "      <td>0</td>\n",
       "      <td>0</td>\n",
       "      <td>0</td>\n",
       "      <td>0</td>\n",
       "      <td>0</td>\n",
       "      <td>1</td>\n",
       "      <td>0</td>\n",
       "      <td>0</td>\n",
       "      <td>0</td>\n",
       "      <td>...</td>\n",
       "      <td>0</td>\n",
       "      <td>0</td>\n",
       "      <td>0</td>\n",
       "      <td>1</td>\n",
       "      <td>0</td>\n",
       "      <td>0</td>\n",
       "      <td>0</td>\n",
       "      <td>1</td>\n",
       "      <td>0</td>\n",
       "      <td>0</td>\n",
       "    </tr>\n",
       "    <tr>\n",
       "      <th>2</th>\n",
       "      <td>1</td>\n",
       "      <td>0</td>\n",
       "      <td>0</td>\n",
       "      <td>0</td>\n",
       "      <td>0</td>\n",
       "      <td>0</td>\n",
       "      <td>1</td>\n",
       "      <td>0</td>\n",
       "      <td>0</td>\n",
       "      <td>0</td>\n",
       "      <td>...</td>\n",
       "      <td>0</td>\n",
       "      <td>0</td>\n",
       "      <td>1</td>\n",
       "      <td>0</td>\n",
       "      <td>0</td>\n",
       "      <td>0</td>\n",
       "      <td>0</td>\n",
       "      <td>1</td>\n",
       "      <td>0</td>\n",
       "      <td>0</td>\n",
       "    </tr>\n",
       "    <tr>\n",
       "      <th>3</th>\n",
       "      <td>1</td>\n",
       "      <td>0</td>\n",
       "      <td>0</td>\n",
       "      <td>0</td>\n",
       "      <td>0</td>\n",
       "      <td>0</td>\n",
       "      <td>1</td>\n",
       "      <td>0</td>\n",
       "      <td>0</td>\n",
       "      <td>0</td>\n",
       "      <td>...</td>\n",
       "      <td>1</td>\n",
       "      <td>0</td>\n",
       "      <td>0</td>\n",
       "      <td>0</td>\n",
       "      <td>0</td>\n",
       "      <td>0</td>\n",
       "      <td>0</td>\n",
       "      <td>1</td>\n",
       "      <td>0</td>\n",
       "      <td>0</td>\n",
       "    </tr>\n",
       "    <tr>\n",
       "      <th>4</th>\n",
       "      <td>1</td>\n",
       "      <td>0</td>\n",
       "      <td>0</td>\n",
       "      <td>0</td>\n",
       "      <td>0</td>\n",
       "      <td>0</td>\n",
       "      <td>1</td>\n",
       "      <td>0</td>\n",
       "      <td>0</td>\n",
       "      <td>0</td>\n",
       "      <td>...</td>\n",
       "      <td>0</td>\n",
       "      <td>0</td>\n",
       "      <td>0</td>\n",
       "      <td>1</td>\n",
       "      <td>0</td>\n",
       "      <td>1</td>\n",
       "      <td>0</td>\n",
       "      <td>0</td>\n",
       "      <td>0</td>\n",
       "      <td>0</td>\n",
       "    </tr>\n",
       "  </tbody>\n",
       "</table>\n",
       "<p>5 rows × 47 columns</p>\n",
       "</div>"
      ],
      "text/plain": [
       "   from_area_id_Low Cancellation  from_area_id_Medium Cancellation  \\\n",
       "0                              1                                 0   \n",
       "1                              1                                 0   \n",
       "2                              1                                 0   \n",
       "3                              1                                 0   \n",
       "4                              1                                 0   \n",
       "\n",
       "   from_date_day_Monday  from_date_day_Saturday  from_date_day_Sunday  \\\n",
       "0                     0                       0                     0   \n",
       "1                     0                       0                     0   \n",
       "2                     0                       0                     0   \n",
       "3                     0                       0                     0   \n",
       "4                     0                       0                     0   \n",
       "\n",
       "   from_date_day_Thursday  from_date_day_Tuesday  from_date_day_Wednesday  \\\n",
       "0                       0                      1                        0   \n",
       "1                       0                      1                        0   \n",
       "2                       0                      1                        0   \n",
       "3                       0                      1                        0   \n",
       "4                       0                      1                        0   \n",
       "\n",
       "   booking_created_day_Monday  booking_created_day_Saturday  ...  \\\n",
       "0                           0                             0  ...   \n",
       "1                           0                             0  ...   \n",
       "2                           0                             0  ...   \n",
       "3                           0                             0  ...   \n",
       "4                           0                             0  ...   \n",
       "\n",
       "   from_date_session_Early Morning  from_date_session_Evening  \\\n",
       "0                                0                          0   \n",
       "1                                0                          0   \n",
       "2                                0                          0   \n",
       "3                                1                          0   \n",
       "4                                0                          0   \n",
       "\n",
       "   from_date_session_Late Night  from_date_session_Morning  \\\n",
       "0                             1                          0   \n",
       "1                             0                          1   \n",
       "2                             1                          0   \n",
       "3                             0                          0   \n",
       "4                             0                          1   \n",
       "\n",
       "   from_date_session_Night  booking_created_session_Early Morning  \\\n",
       "0                        0                                      0   \n",
       "1                        0                                      0   \n",
       "2                        0                                      0   \n",
       "3                        0                                      0   \n",
       "4                        0                                      1   \n",
       "\n",
       "   booking_created_session_Evening  booking_created_session_Late Night  \\\n",
       "0                                0                                   1   \n",
       "1                                0                                   1   \n",
       "2                                0                                   1   \n",
       "3                                0                                   1   \n",
       "4                                0                                   0   \n",
       "\n",
       "   booking_created_session_Morning  booking_created_session_Night  \n",
       "0                                0                              0  \n",
       "1                                0                              0  \n",
       "2                                0                              0  \n",
       "3                                0                              0  \n",
       "4                                0                              0  \n",
       "\n",
       "[5 rows x 47 columns]"
      ]
     },
     "execution_count": 51,
     "metadata": {},
     "output_type": "execute_result"
    }
   ],
   "source": [
    "X_char_dum.head()"
   ]
  },
  {
   "cell_type": "code",
   "execution_count": 52,
   "metadata": {
    "id": "Nyhj-iO93qAX"
   },
   "outputs": [],
   "source": [
    "data_all = pd.concat([num,X_char_dum],axis=1,join='inner')"
   ]
  },
  {
   "cell_type": "code",
   "execution_count": 53,
   "metadata": {
    "colab": {
     "base_uri": "https://localhost:8080/",
     "height": 288
    },
    "id": "VbwJ7JAK4ErL",
    "outputId": "a6323171-df39-4bd5-8d9c-8a5f8120dbb9"
   },
   "outputs": [
    {
     "data": {
      "text/html": [
       "<div>\n",
       "<style scoped>\n",
       "    .dataframe tbody tr th:only-of-type {\n",
       "        vertical-align: middle;\n",
       "    }\n",
       "\n",
       "    .dataframe tbody tr th {\n",
       "        vertical-align: top;\n",
       "    }\n",
       "\n",
       "    .dataframe thead th {\n",
       "        text-align: right;\n",
       "    }\n",
       "</style>\n",
       "<table border=\"1\" class=\"dataframe\">\n",
       "  <thead>\n",
       "    <tr style=\"text-align: right;\">\n",
       "      <th></th>\n",
       "      <th>online_booking</th>\n",
       "      <th>mobile_site_booking</th>\n",
       "      <th>traveltype_pointtopoint</th>\n",
       "      <th>traveltype_hourly</th>\n",
       "      <th>distance</th>\n",
       "      <th>time_diff</th>\n",
       "      <th>from_area_id_Low Cancellation</th>\n",
       "      <th>from_area_id_Medium Cancellation</th>\n",
       "      <th>from_date_day_Monday</th>\n",
       "      <th>from_date_day_Saturday</th>\n",
       "      <th>...</th>\n",
       "      <th>from_date_session_Early Morning</th>\n",
       "      <th>from_date_session_Evening</th>\n",
       "      <th>from_date_session_Late Night</th>\n",
       "      <th>from_date_session_Morning</th>\n",
       "      <th>from_date_session_Night</th>\n",
       "      <th>booking_created_session_Early Morning</th>\n",
       "      <th>booking_created_session_Evening</th>\n",
       "      <th>booking_created_session_Late Night</th>\n",
       "      <th>booking_created_session_Morning</th>\n",
       "      <th>booking_created_session_Night</th>\n",
       "    </tr>\n",
       "  </thead>\n",
       "  <tbody>\n",
       "    <tr>\n",
       "      <th>0</th>\n",
       "      <td>0</td>\n",
       "      <td>0</td>\n",
       "      <td>1</td>\n",
       "      <td>0</td>\n",
       "      <td>3.980687</td>\n",
       "      <td>21.0</td>\n",
       "      <td>1</td>\n",
       "      <td>0</td>\n",
       "      <td>0</td>\n",
       "      <td>0</td>\n",
       "      <td>...</td>\n",
       "      <td>0</td>\n",
       "      <td>0</td>\n",
       "      <td>1</td>\n",
       "      <td>0</td>\n",
       "      <td>0</td>\n",
       "      <td>0</td>\n",
       "      <td>0</td>\n",
       "      <td>1</td>\n",
       "      <td>0</td>\n",
       "      <td>0</td>\n",
       "    </tr>\n",
       "    <tr>\n",
       "      <th>1</th>\n",
       "      <td>0</td>\n",
       "      <td>0</td>\n",
       "      <td>1</td>\n",
       "      <td>0</td>\n",
       "      <td>14.004432</td>\n",
       "      <td>395.0</td>\n",
       "      <td>1</td>\n",
       "      <td>0</td>\n",
       "      <td>0</td>\n",
       "      <td>0</td>\n",
       "      <td>...</td>\n",
       "      <td>0</td>\n",
       "      <td>0</td>\n",
       "      <td>0</td>\n",
       "      <td>1</td>\n",
       "      <td>0</td>\n",
       "      <td>0</td>\n",
       "      <td>0</td>\n",
       "      <td>1</td>\n",
       "      <td>0</td>\n",
       "      <td>0</td>\n",
       "    </tr>\n",
       "    <tr>\n",
       "      <th>2</th>\n",
       "      <td>0</td>\n",
       "      <td>0</td>\n",
       "      <td>1</td>\n",
       "      <td>0</td>\n",
       "      <td>12.648909</td>\n",
       "      <td>22.0</td>\n",
       "      <td>1</td>\n",
       "      <td>0</td>\n",
       "      <td>0</td>\n",
       "      <td>0</td>\n",
       "      <td>...</td>\n",
       "      <td>0</td>\n",
       "      <td>0</td>\n",
       "      <td>1</td>\n",
       "      <td>0</td>\n",
       "      <td>0</td>\n",
       "      <td>0</td>\n",
       "      <td>0</td>\n",
       "      <td>1</td>\n",
       "      <td>0</td>\n",
       "      <td>0</td>\n",
       "    </tr>\n",
       "    <tr>\n",
       "      <th>3</th>\n",
       "      <td>0</td>\n",
       "      <td>0</td>\n",
       "      <td>1</td>\n",
       "      <td>0</td>\n",
       "      <td>9.534596</td>\n",
       "      <td>66.0</td>\n",
       "      <td>1</td>\n",
       "      <td>0</td>\n",
       "      <td>0</td>\n",
       "      <td>0</td>\n",
       "      <td>...</td>\n",
       "      <td>1</td>\n",
       "      <td>0</td>\n",
       "      <td>0</td>\n",
       "      <td>0</td>\n",
       "      <td>0</td>\n",
       "      <td>0</td>\n",
       "      <td>0</td>\n",
       "      <td>1</td>\n",
       "      <td>0</td>\n",
       "      <td>0</td>\n",
       "    </tr>\n",
       "    <tr>\n",
       "      <th>4</th>\n",
       "      <td>0</td>\n",
       "      <td>0</td>\n",
       "      <td>1</td>\n",
       "      <td>0</td>\n",
       "      <td>14.655467</td>\n",
       "      <td>67.0</td>\n",
       "      <td>1</td>\n",
       "      <td>0</td>\n",
       "      <td>0</td>\n",
       "      <td>0</td>\n",
       "      <td>...</td>\n",
       "      <td>0</td>\n",
       "      <td>0</td>\n",
       "      <td>0</td>\n",
       "      <td>1</td>\n",
       "      <td>0</td>\n",
       "      <td>1</td>\n",
       "      <td>0</td>\n",
       "      <td>0</td>\n",
       "      <td>0</td>\n",
       "      <td>0</td>\n",
       "    </tr>\n",
       "  </tbody>\n",
       "</table>\n",
       "<p>5 rows × 53 columns</p>\n",
       "</div>"
      ],
      "text/plain": [
       "   online_booking  mobile_site_booking  traveltype_pointtopoint  \\\n",
       "0               0                    0                        1   \n",
       "1               0                    0                        1   \n",
       "2               0                    0                        1   \n",
       "3               0                    0                        1   \n",
       "4               0                    0                        1   \n",
       "\n",
       "   traveltype_hourly   distance  time_diff  from_area_id_Low Cancellation  \\\n",
       "0                  0   3.980687       21.0                              1   \n",
       "1                  0  14.004432      395.0                              1   \n",
       "2                  0  12.648909       22.0                              1   \n",
       "3                  0   9.534596       66.0                              1   \n",
       "4                  0  14.655467       67.0                              1   \n",
       "\n",
       "   from_area_id_Medium Cancellation  from_date_day_Monday  \\\n",
       "0                                 0                     0   \n",
       "1                                 0                     0   \n",
       "2                                 0                     0   \n",
       "3                                 0                     0   \n",
       "4                                 0                     0   \n",
       "\n",
       "   from_date_day_Saturday  ...  from_date_session_Early Morning  \\\n",
       "0                       0  ...                                0   \n",
       "1                       0  ...                                0   \n",
       "2                       0  ...                                0   \n",
       "3                       0  ...                                1   \n",
       "4                       0  ...                                0   \n",
       "\n",
       "   from_date_session_Evening  from_date_session_Late Night  \\\n",
       "0                          0                             1   \n",
       "1                          0                             0   \n",
       "2                          0                             1   \n",
       "3                          0                             0   \n",
       "4                          0                             0   \n",
       "\n",
       "   from_date_session_Morning  from_date_session_Night  \\\n",
       "0                          0                        0   \n",
       "1                          1                        0   \n",
       "2                          0                        0   \n",
       "3                          0                        0   \n",
       "4                          1                        0   \n",
       "\n",
       "   booking_created_session_Early Morning  booking_created_session_Evening  \\\n",
       "0                                      0                                0   \n",
       "1                                      0                                0   \n",
       "2                                      0                                0   \n",
       "3                                      0                                0   \n",
       "4                                      1                                0   \n",
       "\n",
       "   booking_created_session_Late Night  booking_created_session_Morning  \\\n",
       "0                                   1                                0   \n",
       "1                                   1                                0   \n",
       "2                                   1                                0   \n",
       "3                                   1                                0   \n",
       "4                                   0                                0   \n",
       "\n",
       "   booking_created_session_Night  \n",
       "0                              0  \n",
       "1                              0  \n",
       "2                              0  \n",
       "3                              0  \n",
       "4                              0  \n",
       "\n",
       "[5 rows x 53 columns]"
      ]
     },
     "execution_count": 53,
     "metadata": {},
     "output_type": "execute_result"
    }
   ],
   "source": [
    "data_all.head()"
   ]
  },
  {
   "cell_type": "markdown",
   "metadata": {
    "id": "Jtqq8OQVjFLW"
   },
   "source": [
    "#Train Validation Split"
   ]
  },
  {
   "cell_type": "code",
   "execution_count": 54,
   "metadata": {
    "id": "qMYpsiGAjW9j"
   },
   "outputs": [],
   "source": [
    "from sklearn.model_selection import train_test_split\n",
    "X_train,X_val,y_train,y_val=train_test_split(data_all,target,test_size=0.3,random_state=1)"
   ]
  },
  {
   "cell_type": "code",
   "execution_count": 55,
   "metadata": {
    "colab": {
     "base_uri": "https://localhost:8080/",
     "height": 288
    },
    "id": "uOf_h23plBuT",
    "outputId": "1369b3c1-fbd7-41f4-ff18-2633703f8e54"
   },
   "outputs": [
    {
     "data": {
      "text/html": [
       "<div>\n",
       "<style scoped>\n",
       "    .dataframe tbody tr th:only-of-type {\n",
       "        vertical-align: middle;\n",
       "    }\n",
       "\n",
       "    .dataframe tbody tr th {\n",
       "        vertical-align: top;\n",
       "    }\n",
       "\n",
       "    .dataframe thead th {\n",
       "        text-align: right;\n",
       "    }\n",
       "</style>\n",
       "<table border=\"1\" class=\"dataframe\">\n",
       "  <thead>\n",
       "    <tr style=\"text-align: right;\">\n",
       "      <th></th>\n",
       "      <th>online_booking</th>\n",
       "      <th>mobile_site_booking</th>\n",
       "      <th>traveltype_pointtopoint</th>\n",
       "      <th>traveltype_hourly</th>\n",
       "      <th>distance</th>\n",
       "      <th>time_diff</th>\n",
       "      <th>from_area_id_Low Cancellation</th>\n",
       "      <th>from_area_id_Medium Cancellation</th>\n",
       "      <th>from_date_day_Monday</th>\n",
       "      <th>from_date_day_Saturday</th>\n",
       "      <th>...</th>\n",
       "      <th>from_date_session_Early Morning</th>\n",
       "      <th>from_date_session_Evening</th>\n",
       "      <th>from_date_session_Late Night</th>\n",
       "      <th>from_date_session_Morning</th>\n",
       "      <th>from_date_session_Night</th>\n",
       "      <th>booking_created_session_Early Morning</th>\n",
       "      <th>booking_created_session_Evening</th>\n",
       "      <th>booking_created_session_Late Night</th>\n",
       "      <th>booking_created_session_Morning</th>\n",
       "      <th>booking_created_session_Night</th>\n",
       "    </tr>\n",
       "  </thead>\n",
       "  <tbody>\n",
       "    <tr>\n",
       "      <th>21506</th>\n",
       "      <td>0</td>\n",
       "      <td>0</td>\n",
       "      <td>1</td>\n",
       "      <td>0</td>\n",
       "      <td>9.236426</td>\n",
       "      <td>2832.0</td>\n",
       "      <td>1</td>\n",
       "      <td>0</td>\n",
       "      <td>1</td>\n",
       "      <td>0</td>\n",
       "      <td>...</td>\n",
       "      <td>0</td>\n",
       "      <td>0</td>\n",
       "      <td>0</td>\n",
       "      <td>0</td>\n",
       "      <td>0</td>\n",
       "      <td>0</td>\n",
       "      <td>0</td>\n",
       "      <td>0</td>\n",
       "      <td>0</td>\n",
       "      <td>0</td>\n",
       "    </tr>\n",
       "    <tr>\n",
       "      <th>12367</th>\n",
       "      <td>0</td>\n",
       "      <td>1</td>\n",
       "      <td>1</td>\n",
       "      <td>0</td>\n",
       "      <td>1.809583</td>\n",
       "      <td>1504.0</td>\n",
       "      <td>1</td>\n",
       "      <td>0</td>\n",
       "      <td>1</td>\n",
       "      <td>0</td>\n",
       "      <td>...</td>\n",
       "      <td>0</td>\n",
       "      <td>0</td>\n",
       "      <td>0</td>\n",
       "      <td>1</td>\n",
       "      <td>0</td>\n",
       "      <td>0</td>\n",
       "      <td>0</td>\n",
       "      <td>0</td>\n",
       "      <td>1</td>\n",
       "      <td>0</td>\n",
       "    </tr>\n",
       "    <tr>\n",
       "      <th>5983</th>\n",
       "      <td>0</td>\n",
       "      <td>0</td>\n",
       "      <td>1</td>\n",
       "      <td>0</td>\n",
       "      <td>13.558000</td>\n",
       "      <td>214.0</td>\n",
       "      <td>1</td>\n",
       "      <td>0</td>\n",
       "      <td>0</td>\n",
       "      <td>1</td>\n",
       "      <td>...</td>\n",
       "      <td>0</td>\n",
       "      <td>0</td>\n",
       "      <td>0</td>\n",
       "      <td>0</td>\n",
       "      <td>1</td>\n",
       "      <td>0</td>\n",
       "      <td>1</td>\n",
       "      <td>0</td>\n",
       "      <td>0</td>\n",
       "      <td>0</td>\n",
       "    </tr>\n",
       "    <tr>\n",
       "      <th>18513</th>\n",
       "      <td>0</td>\n",
       "      <td>0</td>\n",
       "      <td>0</td>\n",
       "      <td>0</td>\n",
       "      <td>18.456702</td>\n",
       "      <td>37.0</td>\n",
       "      <td>1</td>\n",
       "      <td>0</td>\n",
       "      <td>0</td>\n",
       "      <td>0</td>\n",
       "      <td>...</td>\n",
       "      <td>1</td>\n",
       "      <td>0</td>\n",
       "      <td>0</td>\n",
       "      <td>0</td>\n",
       "      <td>0</td>\n",
       "      <td>1</td>\n",
       "      <td>0</td>\n",
       "      <td>0</td>\n",
       "      <td>0</td>\n",
       "      <td>0</td>\n",
       "    </tr>\n",
       "    <tr>\n",
       "      <th>16033</th>\n",
       "      <td>1</td>\n",
       "      <td>0</td>\n",
       "      <td>1</td>\n",
       "      <td>0</td>\n",
       "      <td>13.405912</td>\n",
       "      <td>128.0</td>\n",
       "      <td>1</td>\n",
       "      <td>0</td>\n",
       "      <td>0</td>\n",
       "      <td>0</td>\n",
       "      <td>...</td>\n",
       "      <td>0</td>\n",
       "      <td>0</td>\n",
       "      <td>0</td>\n",
       "      <td>0</td>\n",
       "      <td>1</td>\n",
       "      <td>0</td>\n",
       "      <td>1</td>\n",
       "      <td>0</td>\n",
       "      <td>0</td>\n",
       "      <td>0</td>\n",
       "    </tr>\n",
       "  </tbody>\n",
       "</table>\n",
       "<p>5 rows × 53 columns</p>\n",
       "</div>"
      ],
      "text/plain": [
       "       online_booking  mobile_site_booking  traveltype_pointtopoint  \\\n",
       "21506               0                    0                        1   \n",
       "12367               0                    1                        1   \n",
       "5983                0                    0                        1   \n",
       "18513               0                    0                        0   \n",
       "16033               1                    0                        1   \n",
       "\n",
       "       traveltype_hourly   distance  time_diff  from_area_id_Low Cancellation  \\\n",
       "21506                  0   9.236426     2832.0                              1   \n",
       "12367                  0   1.809583     1504.0                              1   \n",
       "5983                   0  13.558000      214.0                              1   \n",
       "18513                  0  18.456702       37.0                              1   \n",
       "16033                  0  13.405912      128.0                              1   \n",
       "\n",
       "       from_area_id_Medium Cancellation  from_date_day_Monday  \\\n",
       "21506                                 0                     1   \n",
       "12367                                 0                     1   \n",
       "5983                                  0                     0   \n",
       "18513                                 0                     0   \n",
       "16033                                 0                     0   \n",
       "\n",
       "       from_date_day_Saturday  ...  from_date_session_Early Morning  \\\n",
       "21506                       0  ...                                0   \n",
       "12367                       0  ...                                0   \n",
       "5983                        1  ...                                0   \n",
       "18513                       0  ...                                1   \n",
       "16033                       0  ...                                0   \n",
       "\n",
       "       from_date_session_Evening  from_date_session_Late Night  \\\n",
       "21506                          0                             0   \n",
       "12367                          0                             0   \n",
       "5983                           0                             0   \n",
       "18513                          0                             0   \n",
       "16033                          0                             0   \n",
       "\n",
       "       from_date_session_Morning  from_date_session_Night  \\\n",
       "21506                          0                        0   \n",
       "12367                          1                        0   \n",
       "5983                           0                        1   \n",
       "18513                          0                        0   \n",
       "16033                          0                        1   \n",
       "\n",
       "       booking_created_session_Early Morning  booking_created_session_Evening  \\\n",
       "21506                                      0                                0   \n",
       "12367                                      0                                0   \n",
       "5983                                       0                                1   \n",
       "18513                                      1                                0   \n",
       "16033                                      0                                1   \n",
       "\n",
       "       booking_created_session_Late Night  booking_created_session_Morning  \\\n",
       "21506                                   0                                0   \n",
       "12367                                   0                                1   \n",
       "5983                                    0                                0   \n",
       "18513                                   0                                0   \n",
       "16033                                   0                                0   \n",
       "\n",
       "       booking_created_session_Night  \n",
       "21506                              0  \n",
       "12367                              0  \n",
       "5983                               0  \n",
       "18513                              0  \n",
       "16033                              0  \n",
       "\n",
       "[5 rows x 53 columns]"
      ]
     },
     "execution_count": 55,
     "metadata": {},
     "output_type": "execute_result"
    }
   ],
   "source": [
    "X_train.head()"
   ]
  },
  {
   "cell_type": "code",
   "execution_count": 56,
   "metadata": {
    "colab": {
     "base_uri": "https://localhost:8080/",
     "height": 288
    },
    "id": "RAkp8C0ZpR-Q",
    "outputId": "49558458-1876-4a0c-958b-07db0b93d1c0"
   },
   "outputs": [
    {
     "data": {
      "text/html": [
       "<div>\n",
       "<style scoped>\n",
       "    .dataframe tbody tr th:only-of-type {\n",
       "        vertical-align: middle;\n",
       "    }\n",
       "\n",
       "    .dataframe tbody tr th {\n",
       "        vertical-align: top;\n",
       "    }\n",
       "\n",
       "    .dataframe thead th {\n",
       "        text-align: right;\n",
       "    }\n",
       "</style>\n",
       "<table border=\"1\" class=\"dataframe\">\n",
       "  <thead>\n",
       "    <tr style=\"text-align: right;\">\n",
       "      <th></th>\n",
       "      <th>online_booking</th>\n",
       "      <th>mobile_site_booking</th>\n",
       "      <th>traveltype_pointtopoint</th>\n",
       "      <th>traveltype_hourly</th>\n",
       "      <th>distance</th>\n",
       "      <th>time_diff</th>\n",
       "      <th>from_area_id_Low Cancellation</th>\n",
       "      <th>from_area_id_Medium Cancellation</th>\n",
       "      <th>from_date_day_Monday</th>\n",
       "      <th>from_date_day_Saturday</th>\n",
       "      <th>...</th>\n",
       "      <th>from_date_session_Early Morning</th>\n",
       "      <th>from_date_session_Evening</th>\n",
       "      <th>from_date_session_Late Night</th>\n",
       "      <th>from_date_session_Morning</th>\n",
       "      <th>from_date_session_Night</th>\n",
       "      <th>booking_created_session_Early Morning</th>\n",
       "      <th>booking_created_session_Evening</th>\n",
       "      <th>booking_created_session_Late Night</th>\n",
       "      <th>booking_created_session_Morning</th>\n",
       "      <th>booking_created_session_Night</th>\n",
       "    </tr>\n",
       "  </thead>\n",
       "  <tbody>\n",
       "    <tr>\n",
       "      <th>26610</th>\n",
       "      <td>0</td>\n",
       "      <td>0</td>\n",
       "      <td>0</td>\n",
       "      <td>1</td>\n",
       "      <td>3.417640</td>\n",
       "      <td>208.0</td>\n",
       "      <td>1</td>\n",
       "      <td>0</td>\n",
       "      <td>0</td>\n",
       "      <td>0</td>\n",
       "      <td>...</td>\n",
       "      <td>0</td>\n",
       "      <td>0</td>\n",
       "      <td>0</td>\n",
       "      <td>0</td>\n",
       "      <td>0</td>\n",
       "      <td>0</td>\n",
       "      <td>0</td>\n",
       "      <td>0</td>\n",
       "      <td>1</td>\n",
       "      <td>0</td>\n",
       "    </tr>\n",
       "    <tr>\n",
       "      <th>38515</th>\n",
       "      <td>0</td>\n",
       "      <td>0</td>\n",
       "      <td>0</td>\n",
       "      <td>1</td>\n",
       "      <td>4.104127</td>\n",
       "      <td>69.0</td>\n",
       "      <td>1</td>\n",
       "      <td>0</td>\n",
       "      <td>0</td>\n",
       "      <td>1</td>\n",
       "      <td>...</td>\n",
       "      <td>0</td>\n",
       "      <td>0</td>\n",
       "      <td>0</td>\n",
       "      <td>1</td>\n",
       "      <td>0</td>\n",
       "      <td>0</td>\n",
       "      <td>0</td>\n",
       "      <td>0</td>\n",
       "      <td>1</td>\n",
       "      <td>0</td>\n",
       "    </tr>\n",
       "    <tr>\n",
       "      <th>29806</th>\n",
       "      <td>0</td>\n",
       "      <td>1</td>\n",
       "      <td>0</td>\n",
       "      <td>1</td>\n",
       "      <td>11.849498</td>\n",
       "      <td>457.0</td>\n",
       "      <td>1</td>\n",
       "      <td>0</td>\n",
       "      <td>0</td>\n",
       "      <td>0</td>\n",
       "      <td>...</td>\n",
       "      <td>0</td>\n",
       "      <td>1</td>\n",
       "      <td>0</td>\n",
       "      <td>0</td>\n",
       "      <td>0</td>\n",
       "      <td>0</td>\n",
       "      <td>0</td>\n",
       "      <td>0</td>\n",
       "      <td>1</td>\n",
       "      <td>0</td>\n",
       "    </tr>\n",
       "    <tr>\n",
       "      <th>28868</th>\n",
       "      <td>0</td>\n",
       "      <td>0</td>\n",
       "      <td>0</td>\n",
       "      <td>1</td>\n",
       "      <td>8.116004</td>\n",
       "      <td>2371.0</td>\n",
       "      <td>1</td>\n",
       "      <td>0</td>\n",
       "      <td>0</td>\n",
       "      <td>0</td>\n",
       "      <td>...</td>\n",
       "      <td>0</td>\n",
       "      <td>0</td>\n",
       "      <td>0</td>\n",
       "      <td>1</td>\n",
       "      <td>0</td>\n",
       "      <td>0</td>\n",
       "      <td>1</td>\n",
       "      <td>0</td>\n",
       "      <td>0</td>\n",
       "      <td>0</td>\n",
       "    </tr>\n",
       "    <tr>\n",
       "      <th>11163</th>\n",
       "      <td>1</td>\n",
       "      <td>0</td>\n",
       "      <td>1</td>\n",
       "      <td>0</td>\n",
       "      <td>27.427907</td>\n",
       "      <td>444.0</td>\n",
       "      <td>1</td>\n",
       "      <td>0</td>\n",
       "      <td>0</td>\n",
       "      <td>0</td>\n",
       "      <td>...</td>\n",
       "      <td>0</td>\n",
       "      <td>1</td>\n",
       "      <td>0</td>\n",
       "      <td>0</td>\n",
       "      <td>0</td>\n",
       "      <td>0</td>\n",
       "      <td>0</td>\n",
       "      <td>0</td>\n",
       "      <td>1</td>\n",
       "      <td>0</td>\n",
       "    </tr>\n",
       "  </tbody>\n",
       "</table>\n",
       "<p>5 rows × 53 columns</p>\n",
       "</div>"
      ],
      "text/plain": [
       "       online_booking  mobile_site_booking  traveltype_pointtopoint  \\\n",
       "26610               0                    0                        0   \n",
       "38515               0                    0                        0   \n",
       "29806               0                    1                        0   \n",
       "28868               0                    0                        0   \n",
       "11163               1                    0                        1   \n",
       "\n",
       "       traveltype_hourly   distance  time_diff  from_area_id_Low Cancellation  \\\n",
       "26610                  1   3.417640      208.0                              1   \n",
       "38515                  1   4.104127       69.0                              1   \n",
       "29806                  1  11.849498      457.0                              1   \n",
       "28868                  1   8.116004     2371.0                              1   \n",
       "11163                  0  27.427907      444.0                              1   \n",
       "\n",
       "       from_area_id_Medium Cancellation  from_date_day_Monday  \\\n",
       "26610                                 0                     0   \n",
       "38515                                 0                     0   \n",
       "29806                                 0                     0   \n",
       "28868                                 0                     0   \n",
       "11163                                 0                     0   \n",
       "\n",
       "       from_date_day_Saturday  ...  from_date_session_Early Morning  \\\n",
       "26610                       0  ...                                0   \n",
       "38515                       1  ...                                0   \n",
       "29806                       0  ...                                0   \n",
       "28868                       0  ...                                0   \n",
       "11163                       0  ...                                0   \n",
       "\n",
       "       from_date_session_Evening  from_date_session_Late Night  \\\n",
       "26610                          0                             0   \n",
       "38515                          0                             0   \n",
       "29806                          1                             0   \n",
       "28868                          0                             0   \n",
       "11163                          1                             0   \n",
       "\n",
       "       from_date_session_Morning  from_date_session_Night  \\\n",
       "26610                          0                        0   \n",
       "38515                          1                        0   \n",
       "29806                          0                        0   \n",
       "28868                          1                        0   \n",
       "11163                          0                        0   \n",
       "\n",
       "       booking_created_session_Early Morning  booking_created_session_Evening  \\\n",
       "26610                                      0                                0   \n",
       "38515                                      0                                0   \n",
       "29806                                      0                                0   \n",
       "28868                                      0                                1   \n",
       "11163                                      0                                0   \n",
       "\n",
       "       booking_created_session_Late Night  booking_created_session_Morning  \\\n",
       "26610                                   0                                1   \n",
       "38515                                   0                                1   \n",
       "29806                                   0                                1   \n",
       "28868                                   0                                0   \n",
       "11163                                   0                                1   \n",
       "\n",
       "       booking_created_session_Night  \n",
       "26610                              0  \n",
       "38515                              0  \n",
       "29806                              0  \n",
       "28868                              0  \n",
       "11163                              0  \n",
       "\n",
       "[5 rows x 53 columns]"
      ]
     },
     "execution_count": 56,
     "metadata": {},
     "output_type": "execute_result"
    }
   ],
   "source": [
    "X_val.head()"
   ]
  },
  {
   "cell_type": "markdown",
   "metadata": {
    "id": "otRzyhyTrHwL"
   },
   "source": [
    "#Model Selection"
   ]
  },
  {
   "cell_type": "code",
   "execution_count": 57,
   "metadata": {
    "colab": {
     "base_uri": "https://localhost:8080/"
    },
    "id": "CdSJEovgxZ95",
    "outputId": "87d745d7-3744-4cb9-9502-060888a75d0a"
   },
   "outputs": [
    {
     "name": "stderr",
     "output_type": "stream",
     "text": [
      "C:\\Users\\dell\\anaconda3\\lib\\site-packages\\sklearn\\utils\\validation.py:63: DataConversionWarning: A column-vector y was passed when a 1d array was expected. Please change the shape of y to (n_samples, ), for example using ravel().\n",
      "  return f(*args, **kwargs)\n",
      "C:\\Users\\dell\\anaconda3\\lib\\site-packages\\sklearn\\linear_model\\_logistic.py:763: ConvergenceWarning: lbfgs failed to converge (status=1):\n",
      "STOP: TOTAL NO. of ITERATIONS REACHED LIMIT.\n",
      "\n",
      "Increase the number of iterations (max_iter) or scale the data as shown in:\n",
      "    https://scikit-learn.org/stable/modules/preprocessing.html\n",
      "Please also refer to the documentation for alternative solver options:\n",
      "    https://scikit-learn.org/stable/modules/linear_model.html#logistic-regression\n",
      "  n_iter_i = _check_optimize_result(\n"
     ]
    },
    {
     "data": {
      "text/plain": [
       "LogisticRegression(random_state=4)"
      ]
     },
     "execution_count": 57,
     "metadata": {},
     "output_type": "execute_result"
    }
   ],
   "source": [
    "from sklearn.linear_model import LogisticRegression\n",
    "lr = LogisticRegression(random_state=4)\n",
    "lr.fit(X_train,y_train)"
   ]
  },
  {
   "cell_type": "code",
   "execution_count": 58,
   "metadata": {
    "id": "9zMW9s9zrKlN"
   },
   "outputs": [],
   "source": [
    "from sklearn.tree import DecisionTreeClassifier\n",
    "dtc = DecisionTreeClassifier(criterion='gini',random_state=4)"
   ]
  },
  {
   "cell_type": "code",
   "execution_count": 59,
   "metadata": {
    "colab": {
     "base_uri": "https://localhost:8080/"
    },
    "id": "mupWh28Uz9rh",
    "outputId": "be9b91a3-b5ae-4188-9e04-ba1b38be7ed1"
   },
   "outputs": [
    {
     "data": {
      "text/plain": [
       "GridSearchCV(cv=10, estimator=DecisionTreeClassifier(random_state=4), n_jobs=-1,\n",
       "             param_grid={'max_depth': [3, 5, 6, 7],\n",
       "                         'min_samples_split': [50, 100, 150, 200, 250]})"
      ]
     },
     "execution_count": 59,
     "metadata": {},
     "output_type": "execute_result"
    }
   ],
   "source": [
    "from sklearn.model_selection import GridSearchCV\n",
    "param_dist = {'max_depth': [3, 5, 6, 7], 'min_samples_split': [50, 100, 150, 200, 250]}\n",
    "gscv_dtc = GridSearchCV(dtc, cv=10, param_grid=param_dist, n_jobs=-1)\n",
    "gscv_dtc.fit(X_train,y_train)"
   ]
  },
  {
   "cell_type": "code",
   "execution_count": 60,
   "metadata": {
    "colab": {
     "base_uri": "https://localhost:8080/"
    },
    "id": "QDakTxvZuSD4",
    "outputId": "bdb71fd0-6b22-44f4-92ce-8be5a806a45f"
   },
   "outputs": [
    {
     "data": {
      "text/plain": [
       "{'max_depth': 7, 'min_samples_split': 50}"
      ]
     },
     "execution_count": 60,
     "metadata": {},
     "output_type": "execute_result"
    }
   ],
   "source": [
    "gscv_dtc.best_params_"
   ]
  },
  {
   "cell_type": "code",
   "execution_count": 61,
   "metadata": {
    "colab": {
     "base_uri": "https://localhost:8080/"
    },
    "id": "4gQ0vUxAxAvW",
    "outputId": "60ae5c5c-44cc-48a7-b17b-93cb2a5ba219"
   },
   "outputs": [
    {
     "data": {
      "text/plain": [
       "DecisionTreeClassifier(max_depth=7, min_samples_split=50, random_state=4)"
      ]
     },
     "execution_count": 61,
     "metadata": {},
     "output_type": "execute_result"
    }
   ],
   "source": [
    "dtc=DecisionTreeClassifier(criterion='gini',random_state=4,max_depth=7,min_samples_split=50)\n",
    "dtc.fit(X_train,y_train)"
   ]
  },
  {
   "cell_type": "code",
   "execution_count": 62,
   "metadata": {
    "id": "zKZjYOGHvXiP"
   },
   "outputs": [],
   "source": [
    "from sklearn.ensemble import RandomForestClassifier\n",
    "rfc = RandomForestClassifier(criterion='gini',random_state=4)"
   ]
  },
  {
   "cell_type": "code",
   "execution_count": 63,
   "metadata": {
    "colab": {
     "base_uri": "https://localhost:8080/"
    },
    "id": "eD33amgzz_mO",
    "outputId": "e0e09ad5-1501-4e36-aa07-70abe55aacae"
   },
   "outputs": [
    {
     "name": "stderr",
     "output_type": "stream",
     "text": [
      "C:\\Users\\dell\\anaconda3\\lib\\site-packages\\sklearn\\model_selection\\_search.py:880: DataConversionWarning: A column-vector y was passed when a 1d array was expected. Please change the shape of y to (n_samples,), for example using ravel().\n",
      "  self.best_estimator_.fit(X, y, **fit_params)\n"
     ]
    },
    {
     "data": {
      "text/plain": [
       "GridSearchCV(cv=10, estimator=RandomForestClassifier(random_state=4), n_jobs=-1,\n",
       "             param_grid={'max_depth': [3, 5, 6, 7],\n",
       "                         'min_samples_split': [50, 100, 150, 200, 250]})"
      ]
     },
     "execution_count": 63,
     "metadata": {},
     "output_type": "execute_result"
    }
   ],
   "source": [
    "from sklearn.model_selection import GridSearchCV\n",
    "param_dist = {'max_depth': [3, 5, 6, 7], 'min_samples_split': [50, 100, 150, 200, 250]}\n",
    "gscv_rfc = GridSearchCV(rfc, cv=10, param_grid=param_dist, n_jobs=-1)\n",
    "gscv_rfc.fit(X_train,y_train)"
   ]
  },
  {
   "cell_type": "code",
   "execution_count": 64,
   "metadata": {
    "colab": {
     "base_uri": "https://localhost:8080/"
    },
    "id": "wRFK72CFwbf7",
    "outputId": "bfb07059-d6fc-4574-c845-72fc0b27182d"
   },
   "outputs": [
    {
     "data": {
      "text/plain": [
       "{'max_depth': 7, 'min_samples_split': 50}"
      ]
     },
     "execution_count": 64,
     "metadata": {},
     "output_type": "execute_result"
    }
   ],
   "source": [
    "gscv_rfc.best_params_"
   ]
  },
  {
   "cell_type": "code",
   "execution_count": 65,
   "metadata": {
    "colab": {
     "base_uri": "https://localhost:8080/"
    },
    "id": "p9Gh1OZPxKxT",
    "outputId": "dc179b4c-14f7-4fc5-bff6-1357cd14ba83"
   },
   "outputs": [
    {
     "name": "stderr",
     "output_type": "stream",
     "text": [
      "<ipython-input-65-0349835b89f6>:2: DataConversionWarning: A column-vector y was passed when a 1d array was expected. Please change the shape of y to (n_samples,), for example using ravel().\n",
      "  rfc.fit(X_train,y_train)\n"
     ]
    },
    {
     "data": {
      "text/plain": [
       "RandomForestClassifier(max_depth=7, min_samples_split=50, random_state=4)"
      ]
     },
     "execution_count": 65,
     "metadata": {},
     "output_type": "execute_result"
    }
   ],
   "source": [
    "rfc=RandomForestClassifier(criterion='gini',random_state=4,max_depth=7,min_samples_split=50)\n",
    "rfc.fit(X_train,y_train)"
   ]
  },
  {
   "cell_type": "markdown",
   "metadata": {
    "id": "XAFRESMYy1Pq"
   },
   "source": [
    "#Model Evaluation"
   ]
  },
  {
   "cell_type": "code",
   "execution_count": 66,
   "metadata": {
    "id": "lGjDJW0ay3_q"
   },
   "outputs": [],
   "source": [
    "y_pred_lr=lr.predict(X_val)\n",
    "y_pred_dtc=dtc.predict(X_val)\n",
    "y_pred_rfc=rfc.predict(X_val)"
   ]
  },
  {
   "cell_type": "code",
   "execution_count": 67,
   "metadata": {
    "id": "2k0kerYLzJft"
   },
   "outputs": [],
   "source": [
    "from sklearn import metrics\n",
    "from sklearn.metrics import confusion_matrix"
   ]
  },
  {
   "cell_type": "code",
   "execution_count": 68,
   "metadata": {
    "colab": {
     "base_uri": "https://localhost:8080/"
    },
    "id": "YazG_DWYzKNB",
    "outputId": "ebe00593-9e20-43f1-d060-da8688d6e0d7"
   },
   "outputs": [
    {
     "name": "stdout",
     "output_type": "stream",
     "text": [
      "Accuracy: 0.929623944742901\n",
      "Precision 0.5581395348837209\n",
      "Recall 0.07725321888412018\n",
      "f1_score 0.1357210179076343\n"
     ]
    }
   ],
   "source": [
    "print(\"Accuracy:\",metrics.accuracy_score(y_val, y_pred_lr))\n",
    "print(\"Precision\",metrics.precision_score(y_val,y_pred_lr))\n",
    "print(\"Recall\",metrics.recall_score(y_val,y_pred_lr))\n",
    "print(\"f1_score\",metrics.f1_score(y_val,y_pred_lr))"
   ]
  },
  {
   "cell_type": "code",
   "execution_count": 69,
   "metadata": {
    "colab": {
     "base_uri": "https://localhost:8080/",
     "height": 355
    },
    "id": "LMcVpCiPzWVl",
    "outputId": "96f2e1ef-76eb-4ebe-caa0-66217e8a4f94"
   },
   "outputs": [
    {
     "data": {
      "text/plain": [
       "<sklearn.metrics._plot.confusion_matrix.ConfusionMatrixDisplay at 0x1f68b4650a0>"
      ]
     },
     "execution_count": 69,
     "metadata": {},
     "output_type": "execute_result"
    },
    {
     "data": {
      "image/png": "[encoded data removed]",
      "text/plain": [
       "<Figure size 432x288 with 2 Axes>"
      ]
     },
     "metadata": {
      "needs_background": "light"
     },
     "output_type": "display_data"
    }
   ],
   "source": [
    "metrics.plot_confusion_matrix(lr,X_val,y_val)"
   ]
  },
  {
   "cell_type": "code",
   "execution_count": 70,
   "metadata": {
    "colab": {
     "base_uri": "https://localhost:8080/"
    },
    "id": "bc0GcsPSzfPE",
    "outputId": "952c2b29-03c5-49e1-98fc-2a7af48a0af2"
   },
   "outputs": [
    {
     "name": "stdout",
     "output_type": "stream",
     "text": [
      "Accuracy: 0.9323100537221796\n",
      "Precision 0.6865671641791045\n",
      "Recall 0.09871244635193133\n",
      "f1_score 0.1726078799249531\n"
     ]
    }
   ],
   "source": [
    "print(\"Accuracy:\",metrics.accuracy_score(y_val, y_pred_dtc))\n",
    "print(\"Precision\",metrics.precision_score(y_val,y_pred_dtc))\n",
    "print(\"Recall\",metrics.recall_score(y_val,y_pred_dtc))\n",
    "print(\"f1_score\",metrics.f1_score(y_val,y_pred_dtc))"
   ]
  },
  {
   "cell_type": "code",
   "execution_count": 71,
   "metadata": {
    "colab": {
     "base_uri": "https://localhost:8080/",
     "height": 354
    },
    "id": "F3nMkvSTzgLQ",
    "outputId": "40a62e84-df13-4060-ff35-2c1474f15948"
   },
   "outputs": [
    {
     "data": {
      "text/plain": [
       "<sklearn.metrics._plot.confusion_matrix.ConfusionMatrixDisplay at 0x1f68b44e8b0>"
      ]
     },
     "execution_count": 71,
     "metadata": {},
     "output_type": "execute_result"
    },
    {
     "data": {
      "image/png": "[encoded data removed]",
      "text/plain": [
       "<Figure size 432x288 with 2 Axes>"
      ]
     },
     "metadata": {
      "needs_background": "light"
     },
     "output_type": "display_data"
    }
   ],
   "source": [
    "metrics.plot_confusion_matrix(dtc,X_val,y_val)"
   ]
  },
  {
   "cell_type": "code",
   "execution_count": 72,
   "metadata": {
    "colab": {
     "base_uri": "https://localhost:8080/"
    },
    "id": "pV2GG_F5zl1D",
    "outputId": "5eecbaba-10ec-43c3-cf12-52d96e50e2bf"
   },
   "outputs": [
    {
     "name": "stdout",
     "output_type": "stream",
     "text": [
      "Accuracy: 0.930775134305449\n",
      "Precision 1.0\n",
      "Recall 0.032188841201716736\n",
      "f1_score 0.06237006237006236\n"
     ]
    }
   ],
   "source": [
    "print(\"Accuracy:\",metrics.accuracy_score(y_val, y_pred_rfc))\n",
    "print(\"Precision\",metrics.precision_score(y_val,y_pred_rfc))\n",
    "print(\"Recall\",metrics.recall_score(y_val,y_pred_rfc))\n",
    "print(\"f1_score\",metrics.f1_score(y_val,y_pred_rfc))"
   ]
  },
  {
   "cell_type": "code",
   "execution_count": 73,
   "metadata": {
    "colab": {
     "base_uri": "https://localhost:8080/",
     "height": 354
    },
    "id": "PCvedznQzm5I",
    "outputId": "fd86998b-cf8d-43d3-f53d-ccd424c81ecc"
   },
   "outputs": [
    {
     "data": {
      "text/plain": [
       "<sklearn.metrics._plot.confusion_matrix.ConfusionMatrixDisplay at 0x1f68b430790>"
      ]
     },
     "execution_count": 73,
     "metadata": {},
     "output_type": "execute_result"
    },
    {
     "data": {
      "image/png": "[encoded data removed]",
      "text/plain": [
       "<Figure size 432x288 with 2 Axes>"
      ]
     },
     "metadata": {
      "needs_background": "light"
     },
     "output_type": "display_data"
    }
   ],
   "source": [
    "metrics.plot_confusion_matrix(rfc,X_val,y_val)"
   ]
  }
 ],
 "metadata": {
  "colab": {
   "collapsed_sections": [
    "k8rpL6ufiR2L",
    "EqTlE3OViaQU",
    "KTQR-fSgipxk",
    "Nt7DgCrCivfd",
    "U8ThjueDi6Zi",
    "OcQF4oES0C2N",
    "Jtqq8OQVjFLW",
    "otRzyhyTrHwL",
    "XAFRESMYy1Pq"
   ],
   "name": "YourCabs.ipynb",
   "provenance": []
  },
  "kernelspec": {
   "display_name": "Python 3",
   "language": "python",
   "name": "python3"
  },
  "language_info": {
   "codemirror_mode": {
    "name": "ipython",
    "version": 3
   },
   "file_extension": ".py",
   "mimetype": "text/x-python",
   "name": "python",
   "nbconvert_exporter": "python",
   "pygments_lexer": "ipython3",
   "version": "3.8.8"
  }
 },
 "nbformat": 4,
 "nbformat_minor": 1
}
